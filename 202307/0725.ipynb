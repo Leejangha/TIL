{
 "cells": [
  {
   "cell_type": "code",
   "execution_count": 1,
   "id": "bf5395d8-571b-43cd-b936-df16a91fea4f",
   "metadata": {},
   "outputs": [
    {
     "name": "stdout",
     "output_type": "stream",
     "text": [
      "{1, 2, 3, 4}\n",
      "{1, 2, 3, 4}\n",
      "set()\n",
      "{1, 3}\n",
      "{1, 3}\n",
      "{1, 3}\n",
      "1\n",
      "{2, 3}\n"
     ]
    }
   ],
   "source": [
    "my_set = {1, 2, 3}\n",
    "my_set.add(4)\n",
    "print(my_set) # {1, 2, 3, 4}\n",
    "my_set.add(4)\n",
    "print(my_set) # {1, 2, 3, 4}\n",
    "\n",
    "my_set.clear()\n",
    "print(my_set) # set()\n",
    "\n",
    "my_set = {1, 2, 3}\n",
    "my_set.remove(2)\n",
    "print(my_set) # {1, 3}\n",
    "# my_set.remove(10)\n",
    "# print(my_set) # KeyError\n",
    "\n",
    "my_set = {1, 2, 3}\n",
    "my_set.discard(2)\n",
    "print(my_set) # {1, 3}\n",
    "my_set.discard(10)\n",
    "print(my_set) # {1, 3}\n",
    "\n",
    "my_set = {1, 2, 3} # 정수값은 \n",
    "element = my_set.pop() #해쉬 테이블의 첫번째 주소값을 제거\n",
    "\n",
    "print(element) # 1\n",
    "print(my_set) # {2, 3}\n"
   ]
  },
  {
   "cell_type": "code",
   "execution_count": 2,
   "id": "d99923db-c834-42a8-9f3c-5edd96f4bc56",
   "metadata": {},
   "outputs": [
    {
     "name": "stdout",
     "output_type": "stream",
     "text": [
      "1\n",
      "2\n",
      "3\n",
      "100\n",
      "4\n",
      "9\n",
      "23\n"
     ]
    }
   ],
   "source": [
    "my_set = {1, 2, 3, 9, 100, 4, 63, 23, 63}\n",
    "\n",
    "print(my_set.pop())\n",
    "print(my_set.pop())\n",
    "print(my_set.pop())\n",
    "print(my_set.pop())\n",
    "print(my_set.pop())\n",
    "print(my_set.pop())\n",
    "print(my_set.pop())"
   ]
  },
  {
   "cell_type": "code",
   "execution_count": 3,
   "id": "c586edbc-3f16-482f-acc5-472e702b4ae6",
   "metadata": {
    "scrolled": true
   },
   "outputs": [
    {
     "name": "stdout",
     "output_type": "stream",
     "text": [
      "g\n",
      "e\n",
      "f\n",
      "c\n",
      "b\n",
      "a\n"
     ]
    }
   ],
   "source": [
    "my_str = {'a', 'b', 'c', 'd', 'e', 'f', 'g'}\n",
    "\n",
    "print(my_str.pop())\n",
    "print(my_str.pop())\n",
    "print(my_str.pop())\n",
    "print(my_str.pop())\n",
    "print(my_str.pop())\n",
    "print(my_str.pop())"
   ]
  },
  {
   "cell_type": "code",
   "execution_count": 2,
   "id": "209d4156-2830-4250-b33d-c69253f35ac6",
   "metadata": {},
   "outputs": [
    {
     "name": "stdout",
     "output_type": "stream",
     "text": [
      "1\n",
      "1\n",
      "-4566428789708436935\n",
      "-4566428789708436935\n"
     ]
    }
   ],
   "source": [
    "print(hash(1))\n",
    "print(hash(1))\n",
    "print(hash('a'))\n",
    "print(hash('a'))"
   ]
  },
  {
   "cell_type": "code",
   "execution_count": 3,
   "id": "15839108-e70e-4bd7-a058-09e0a540dc14",
   "metadata": {},
   "outputs": [],
   "source": [
    "set1 = {1, 2, 3, 4, 5}\n",
    "set2 = {5, 6, 7, 35, 77}\n",
    "\n"
   ]
  },
  {
   "cell_type": "code",
   "execution_count": 25,
   "id": "68450757-3b0e-41bb-be39-df7c37fb7c1f",
   "metadata": {},
   "outputs": [
    {
     "name": "stdout",
     "output_type": "stream",
     "text": [
      "{}\n",
      "Alice\n",
      "None\n",
      "Unknown\n",
      "dict_keys(['name', 'age'])\n",
      "name\n",
      "age\n",
      "dict_values(['Alice', 25])\n",
      "Alice\n",
      "25\n",
      "dict_items([('name', 'Alice'), ('age', 25)])\n",
      "name Alice\n",
      "age 25\n",
      "25\n",
      "{'name': 'Alice'}\n",
      "None\n",
      "KOREA\n",
      "None\n",
      "{'name': 'Alice', 'age': 25, 'country': 'KOREA', 'company': None}\n",
      "{'name': 'Jane', 'age': 25, 'country': 'KOREA', 'company': None, 'gender': 'Female'}\n",
      "{'name': 'Jane', 'age': 50, 'country': 'KOREA', 'company': None, 'gender': 'Female'}\n",
      "{'name': 'Jane', 'age': 50, 'country': 'KOREA', 'company': None, 'gender': 'Female', 'address': '252'}\n"
     ]
    }
   ],
   "source": [
    "person = {'name' : 'Alice', 'age' : 25}\n",
    "person.clear()\n",
    "print(person) # {}\n",
    "\n",
    "person = {'name' : 'Alice', 'age' : 25}\n",
    "print(person.get('name')) # Alice\n",
    "# print(person['country']) #KeyError\n",
    "print(person.get('country')) # None\n",
    "print(person.get('country', 'Unknown')) # Unknown\n",
    "\n",
    "print(person.keys()) # dict_keys(['name', 'age'])\n",
    "\n",
    "for k in person.keys():\n",
    "    print(k)\n",
    "\"\"\"\n",
    "name\n",
    "age\n",
    "\"\"\"\n",
    "\n",
    "print(person.values()) # dict_values(['Alice', 25])\n",
    "for k in person.values():\n",
    "    print(k)\n",
    "\"\"\"\n",
    "Alice\n",
    "25\n",
    "\"\"\"\n",
    "\n",
    "print(person.items()) # dict_items([('name', 'Alice'), ('age', 25)])\n",
    "for k, v in person.items():\n",
    "    print(k, v)\n",
    "\"\"\"\n",
    "name Alice\n",
    "age 25\n",
    "\"\"\"\n",
    "\n",
    "print(person.pop('age')) # 25\n",
    "print(person) # {'name': 'Alice'}\n",
    "print(person.pop('country', None)) # None\n",
    "# print(person.pop('country')) # KeyError\n",
    "\n",
    "person = {'name' : 'Alice', 'age' : 25}\n",
    "print(person.setdefault('country', 'KOREA')) # KOREA\n",
    "print(person.setdefault('company')) # None\n",
    "print(person) # {'name': 'Alice', 'age': 25, 'country': 'KOREA', 'company': None}\n",
    "\n",
    "other_person = {'name' : 'Jane', 'gender' : 'Female'}\n",
    "person.update(other_person)\n",
    "print(person) # {'name': 'Jane', 'age': 25, 'country': 'KOREA', 'company': None, 'gender': 'Female'}\n",
    "person.update(age = 50)\n",
    "print(person) # {'name': 'Jane', 'age': 50, 'country': 'KOREA', 'company': None, 'gender': 'Female'}\n",
    "person.update(address = '252')\n",
    "print(person) # {'name': 'Jane', 'age': 50, 'country': 'KOREA', 'company': None, 'gender': 'Female', 'address': '252'}"
   ]
  },
  {
   "cell_type": "code",
   "execution_count": 19,
   "id": "8d5252e6-0bbf-4077-85b5-0c1e8ca8539a",
   "metadata": {},
   "outputs": [
    {
     "name": "stdout",
     "output_type": "stream",
     "text": [
      "{'A': 1, 'B': 3, 'O': 4, 'AB': 3}\n",
      "{'A': 1, 'B': 3, 'O': 4, 'AB': 3}\n",
      "{'A': 1, 'B': 3, 'O': 4, 'AB': 3}\n"
     ]
    }
   ],
   "source": [
    "blood_types = ['A', 'B', 'O', 'AB', 'O', 'AB', 'B', 'O', 'B', 'O', 'AB']\n",
    "\n",
    "# []\n",
    "new_dict = {}\n",
    "for blood_type in blood_types:\n",
    "    if blood_type in new_dict:\n",
    "        new_dict[blood_type] += 1\n",
    "    else:\n",
    "        new_dict[blood_type] = 1\n",
    "print(new_dict)\n",
    "\n",
    "# .get()\n",
    "new_dict = {}\n",
    "for blood_type in blood_types:\n",
    "    new_dict[blood_type] = new_dict.get(blood_type, 0) + 1\n",
    "\n",
    "print(new_dict)\n",
    "\n",
    "# .setdefault()\n",
    "new_dict = {}\n",
    "for blood_type in blood_types:\n",
    "    new_dict.setdefault(blood_type, 0)\n",
    "    new_dict[blood_type] += 1\n",
    "print(new_dict)"
   ]
  },
  {
   "cell_type": "code",
   "execution_count": null,
   "id": "325eade9",
   "metadata": {},
   "outputs": [],
   "source": []
  }
 ],
 "metadata": {
  "kernelspec": {
   "display_name": "Python 3 (ipykernel)",
   "language": "python",
   "name": "python3"
  },
  "language_info": {
   "codemirror_mode": {
    "name": "ipython",
    "version": 3
   },
   "file_extension": ".py",
   "mimetype": "text/x-python",
   "name": "python",
   "nbconvert_exporter": "python",
   "pygments_lexer": "ipython3",
   "version": "3.9.13"
  }
 },
 "nbformat": 4,
 "nbformat_minor": 5
}
