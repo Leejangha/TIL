{
 "cells": [
  {
   "cell_type": "code",
   "execution_count": null,
   "metadata": {},
   "outputs": [],
   "source": [
    "# 클래스 정의\n",
    "class Person():\n",
    "    pass\n",
    "\n",
    "# 인스턴스 생성\n",
    "iu = Person()\n",
    "\n",
    "# 메서드 호출\n",
    "iu.메서드()\n",
    "\n",
    "# 속성(변수) 접근\n",
    "iu.attribute"
   ]
  },
  {
   "cell_type": "code",
   "execution_count": 3,
   "metadata": {},
   "outputs": [
    {
     "name": "stdout",
     "output_type": "stream",
     "text": [
      "iu가 노래합니다.\n",
      "BTS가 노래합니다.\n",
      "red\n",
      "red\n"
     ]
    }
   ],
   "source": [
    "# 클래스 정의\n",
    "class Person:\n",
    "    # 속성(변수)\n",
    "    blood_color = 'red'\n",
    "\n",
    "    # 메서드(__ : magic method : 개발자가 직접 호출 X)\n",
    "    def __init__(self, name): # init : 생성자 메서드\n",
    "        self.name = name\n",
    "    \n",
    "    def singing(self):\n",
    "        return f'{self.name}가 노래합니다.'\n",
    "\n",
    "# 인스턴스 생성\n",
    "singer1 = Person('iu')\n",
    "singer2 = Person('BTS')\n",
    "\n",
    "# 메서드 호출\n",
    "print(singer1.singing())\n",
    "print(singer2.singing())\n",
    "\n",
    "# 속성(변수) 접근\n",
    "print(singer1.blood_color)\n",
    "print(singer2.blood_color)"
   ]
  },
  {
   "cell_type": "code",
   "execution_count": 5,
   "metadata": {},
   "outputs": [
    {
     "name": "stdout",
     "output_type": "stream",
     "text": [
      "unknown\n",
      "unknown\n",
      "Kim\n",
      "unknown\n",
      "unknown\n",
      "Kim\n"
     ]
    }
   ],
   "source": [
    "# Person 정의\n",
    "class Person:\n",
    "    name = 'unknown'\n",
    "\n",
    "    def talk(self):\n",
    "        print(self.name)\n",
    "\n",
    "p1 = Person()\n",
    "p1.talk()\n",
    "\n",
    "p2 = Person ()\n",
    "p2.talk()\n",
    "p2.name = 'Kim'\n",
    "p2.talk()\n",
    "\n",
    "print(Person.name)\n",
    "print(p1.name)\n",
    "print(p2.name)"
   ]
  },
  {
   "cell_type": "code",
   "execution_count": 8,
   "metadata": {},
   "outputs": [
    {
     "name": "stdout",
     "output_type": "stream",
     "text": [
      "10\n"
     ]
    }
   ],
   "source": [
    "class Circle():\n",
    "    pi = 3.14\n",
    "\n",
    "    def __init__(self, r):\n",
    "        self.r = r\n",
    "\n",
    "c1 = Circle(5)\n",
    "c2 = Circle(10)\n"
   ]
  },
  {
   "cell_type": "code",
   "execution_count": null,
   "metadata": {},
   "outputs": [],
   "source": [
    "# 인스턴스.메서드()\n",
    "'abc'.upper() \n",
    "\n",
    "#클래스.메서드(인스턴스 자기자신)\n",
    "str.upper('abc')\n",
    "\n",
    "#"
   ]
  },
  {
   "cell_type": "code",
   "execution_count": 14,
   "metadata": {},
   "outputs": [
    {
     "name": "stdout",
     "output_type": "stream",
     "text": [
      "2\n",
      "2\n"
     ]
    }
   ],
   "source": [
    "class Person:\n",
    "    count = 0\n",
    "\n",
    "    def __init__(self, name):\n",
    "        self.name = name\n",
    "        Person.count += 1\n",
    "\n",
    "person1 = Person('iu')\n",
    "# person1.count = 3\n",
    "person2 = Person('BTS')\n",
    "\n",
    "print(Person.count)\n",
    "print(person1.count)\n",
    "                 "
   ]
  },
  {
   "cell_type": "code",
   "execution_count": null,
   "metadata": {},
   "outputs": [],
   "source": [
    "def test():\n",
    "    pass\n",
    "\n",
    "{\n",
    "    'a' : 1,\n",
    "    'b' : 's',\n",
    "    'c' : test\n",
    "\n",
    "\n",
    "}\n",
    "# test : method\n",
    "\n",
    "{\n",
    "    'height' : 200,\n",
    "\n",
    "    'drinkMilk' : drinkMilk\n",
    "}\n",
    "\n",
    "def drinkMilk():\n",
    "    "
   ]
  },
  {
   "cell_type": "code",
   "execution_count": 15,
   "metadata": {},
   "outputs": [
    {
     "data": {
      "text/plain": [
       "{'class': 2, 'seat': <function __main__.seat()>}"
      ]
     },
     "execution_count": 15,
     "metadata": {},
     "output_type": "execute_result"
    }
   ],
   "source": [
    "ag = 25\n",
    "day = 0\n",
    "def age():\n",
    "    for i in range(365):\n",
    "        day += 1\n",
    "    if day == 365:\n",
    "        ag += 1\n",
    "    return\n",
    "\n",
    "{\n",
    "    'name' : '이장하',\n",
    "    'age' : age,\n",
    "    'address' : 'Busan'\n",
    "}\n",
    "\n",
    "import random\n",
    "\n",
    "def seat():\n",
    "    seats = random.range(25)\n",
    "    return seats\n",
    "\n",
    "{\n",
    "    'seat1' : 2,\n",
    "    'seat' : seat\n",
    "}\n",
    "   \n",
    "\n"
   ]
  },
  {
   "cell_type": "code",
   "execution_count": null,
   "metadata": {},
   "outputs": [],
   "source": [
    "class Person():\n",
    "    pass\n",
    "\n",
    "a = Person() # a : Person의 인스턴스\n"
   ]
  },
  {
   "cell_type": "code",
   "execution_count": 27,
   "metadata": {},
   "outputs": [
    {
     "ename": "SyntaxError",
     "evalue": "invalid syntax (2306581094.py, line 14)",
     "output_type": "error",
     "traceback": [
      "\u001b[1;36m  Cell \u001b[1;32mIn[27], line 14\u001b[1;36m\u001b[0m\n\u001b[1;33m    my_decorator(print('원본 함수 실행'))\u001b[0m\n\u001b[1;37m    ^\u001b[0m\n\u001b[1;31mSyntaxError\u001b[0m\u001b[1;31m:\u001b[0m invalid syntax\n"
     ]
    }
   ],
   "source": [
    "def my_decorator(func):\n",
    "    def wrapper():\n",
    "        print('함수 실행 전')\n",
    "        result = func()\n",
    "        print('함수 실해 후')\n",
    "        return result\n",
    "    return wrapper\n",
    "\n",
    "@my_decorator\n",
    "def my_function():\n",
    "    print('원본 함수 실행')\n",
    "\n",
    "my_function()"
   ]
  },
  {
   "cell_type": "code",
   "execution_count": null,
   "metadata": {},
   "outputs": [],
   "source": []
  }
 ],
 "metadata": {
  "kernelspec": {
   "display_name": "Python 3",
   "language": "python",
   "name": "python3"
  },
  "language_info": {
   "codemirror_mode": {
    "name": "ipython",
    "version": 3
   },
   "file_extension": ".py",
   "mimetype": "text/x-python",
   "name": "python",
   "nbconvert_exporter": "python",
   "pygments_lexer": "ipython3",
   "version": "3.9.13"
  },
  "orig_nbformat": 4
 },
 "nbformat": 4,
 "nbformat_minor": 2
}
