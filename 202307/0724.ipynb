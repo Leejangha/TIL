{
 "cells": [
  {
   "cell_type": "code",
   "execution_count": 27,
   "id": "920b6fd5-f8be-44da-8c08-d6080c770f35",
   "metadata": {},
   "outputs": [
    {
     "name": "stdout",
     "output_type": "stream",
     "text": [
      "Hello\n",
      "[1, 2, 3, 4]\n"
     ]
    }
   ],
   "source": [
    "# 문자열 메서드 예시\n",
    "print('hello'.capitalize()) # Hello\n",
    "\n",
    "# 리스트 메서드 예시\n",
    "numbers = [1, 2, 3]\n",
    "numbers.append(4)\n",
    "\n",
    "print(numbers) # [1, 2, 3, 4]"
   ]
  },
  {
   "cell_type": "code",
   "execution_count": 39,
   "id": "404cf191-562a-4041-8fbf-fcf9ee67f48f",
   "metadata": {},
   "outputs": [
    {
     "name": "stdout",
     "output_type": "stream",
     "text": [
      "-1\n",
      "0\n",
      "True\n",
      "False\n",
      "True\n",
      "False\n"
     ]
    }
   ],
   "source": [
    "s = 'hello'\n",
    "\n",
    "print(s.find('x')) # -1\n",
    "print(s.index('x')) # error\n",
    "print(s.isalpha()) # True\n",
    "print(s.isupper()) # False\n",
    "print(s.islower()) # True\n",
    "print(s.istitle()) # False"
   ]
  },
  {
   "cell_type": "code",
   "execution_count": 62,
   "id": "4737091a-fa15-4662-8bb1-b516a582fd50",
   "metadata": {},
   "outputs": [
    {
     "name": "stdout",
     "output_type": "stream",
     "text": [
      "hello, python!\n",
      "hello, world!\n",
      "['hello', ' world!']\n",
      "Hello-world!\n",
      "Hello, world!\n",
      "Hello, World!\n",
      "HELLO, WORLD!\n",
      "HEllO, WOrLD!\n"
     ]
    }
   ],
   "source": [
    "s = 'hello, world!'\n",
    "s2 = '  hello, world!  '\n",
    "words = ['Hello', 'world!']\n",
    "text = 'heLLo, woRld!'\n",
    "\n",
    "print(s.replace('world', 'python')) # hello, python\n",
    "print(s2.strip()) # hello, world!\n",
    "print(s.split(',')) # ['hello', ' world!']\n",
    "print('-'.join(words)) # Hello-world!\n",
    "print(text.capitalize()) # Hello, world!\n",
    "print(text.title()) # Hello, World!\n",
    "print(text.upper()) # HELLO, WORLD!\n",
    "print(text.swapcase()) # HEllO, WOrLD!"
   ]
  },
  {
   "cell_type": "code",
   "execution_count": 12,
   "id": "a7edee31-7f9b-4b4f-8509-d4569df61b1b",
   "metadata": {},
   "outputs": [
    {
     "data": {
      "text/plain": [
       "'g-e-g-g'"
      ]
     },
     "execution_count": 12,
     "metadata": {},
     "output_type": "execute_result"
    }
   ],
   "source": [
    "text = 'gegg'\n",
    "'-'.join(text)"
   ]
  },
  {
   "cell_type": "code",
   "execution_count": 75,
   "id": "5a25debf-26ff-4ac1-9f45-13e6cebab277",
   "metadata": {},
   "outputs": [
    {
     "name": "stdout",
     "output_type": "stream",
     "text": [
      "[1, 2, 3, 4]\n",
      "[1, 2, 3, 4, 4, 5, 6]\n",
      "[1, 5, 2, 3, 4, 4, 5, 6]\n",
      "[1, 5, 3, 4, 4, 5, 6]\n",
      "6\n",
      "1\n",
      "[5, 3, 4, 4, 5]\n",
      "[]\n"
     ]
    }
   ],
   "source": [
    "my_list = [1, 2, 3]\n",
    "my_list.append(4)\n",
    "print(my_list) # [1, 2, 3, 4]\n",
    "my_list.extend([4, 5, 6])\n",
    "print(my_list) # [1, 2, 3, 4, 4, 5, 6]\n",
    "my_list.insert(1,5)\n",
    "print(my_list) # [1, 5, 2, 3, 4, 4, 5, 6]\n",
    "my_list.remove(2)\n",
    "print(my_list) # [1, 5, 3, 4, 4, 5, 6]\n",
    "item1 = my_list.pop()\n",
    "item2 = my_list.pop(0)\n",
    "print(item1) # 6\n",
    "print(item2) # 1\n",
    "print(my_list) # [5, 3, 4, 4, 5]\n",
    "my_list.clear()\n",
    "print(my_list) # []"
   ]
  },
  {
   "cell_type": "code",
   "execution_count": 88,
   "id": "59c3ae9f-66c1-4832-bafe-d97baec74f58",
   "metadata": {},
   "outputs": [
    {
     "name": "stdout",
     "output_type": "stream",
     "text": [
      "1\n",
      "3\n",
      "[1, 2, 3, 3, 3, 8, 9]\n",
      "[9, 8, 3, 3, 3, 2, 1]\n",
      "[1, 2, 3, 3, 3, 8, 9]\n",
      "[9, 8, 3, 3, 3, 2, 1]\n",
      "[1, 2, 3, 3, 3, 8, 9]\n"
     ]
    }
   ],
   "source": [
    "numbers = [3, 2, 1, 3, 8, 3, 9]\n",
    "print(numbers.index(2)) # 1\n",
    "print(numbers.count(3)) # 3\n",
    "#sort 메서드\n",
    "numbers.sort() # 원본을 정렬\n",
    "print(numbers) # [1, 2, 3, 3, 3, 8, 9]\n",
    "# 내림차순\n",
    "numbers.sort(reverse = True)\n",
    "print(numbers) # [9, 8, 3, 3, 3, 2, 1]\n",
    "# sorted 함수\n",
    "print(sorted(numbers)) # 복사본을 반환 [1, 2, 3, 3, 3, 8, 9]\n",
    "print(numbers) # [9, 8, 3, 3, 3, 2, 1]\n",
    "numbers.reverse()\n",
    "print(numbers) # [1, 2, 3, 3, 3, 8, 9]"
   ]
  },
  {
   "cell_type": "code",
   "execution_count": 3,
   "id": "f3b7f7b1-47e5-48e0-8c3e-b045b9c4d431",
   "metadata": {},
   "outputs": [
    {
     "name": "stdout",
     "output_type": "stream",
     "text": [
      "[100, 2, 3]\n",
      "[1, 2, 3]\n"
     ]
    }
   ],
   "source": [
    "numbers = [1, 2, 3]\n",
    "\n",
    "# 1. 할당\n",
    "list1 = numbers\n",
    "\n",
    "# 2. 슬라이싱\n",
    "list2 = numbers[:]\n",
    "\n",
    "numbers[0] = 100\n",
    "print(list1)\n",
    "print(list2)"
   ]
  },
  {
   "cell_type": "code",
   "execution_count": 4,
   "id": "94a65295-b718-4352-a333-e3a7026e09cd",
   "metadata": {},
   "outputs": [
    {
     "name": "stdout",
     "output_type": "stream",
     "text": [
      "2 1\n"
     ]
    }
   ],
   "source": [
    "a = 1\n",
    "b = a\n",
    "\n",
    "a = 2 # 값에 의한 복사\n",
    "print(a, b) # 2 1"
   ]
  },
  {
   "cell_type": "code",
   "execution_count": 5,
   "id": "ebaabbe1",
   "metadata": {},
   "outputs": [
    {
     "name": "stdout",
     "output_type": "stream",
     "text": [
      "[10, 2] [10, 2]\n"
     ]
    }
   ],
   "source": [
    "c = [1, 2]\n",
    "d = c # 참조(주소 값)에 의한 복사\n",
    "c[0] = 10\n",
    "print(c, d) # [10, 2] [10, 2]"
   ]
  },
  {
   "cell_type": "code",
   "execution_count": 6,
   "id": "88298ff6",
   "metadata": {},
   "outputs": [
    {
     "name": "stdout",
     "output_type": "stream",
     "text": [
      "[10, 2] [1, 2]\n"
     ]
    }
   ],
   "source": [
    "#얕은 복사\n",
    "e = [1, 2]\n",
    "f = e[:]\n",
    "\n",
    "e[0] = 10\n",
    "print(e, f) # [10, 2], [1, 2]"
   ]
  },
  {
   "cell_type": "code",
   "execution_count": 7,
   "id": "660bfbc1",
   "metadata": {},
   "outputs": [
    {
     "name": "stdout",
     "output_type": "stream",
     "text": [
      "[1, 2, [30, 4]] [1, 2, [30, 4]]\n"
     ]
    }
   ],
   "source": [
    "# 중첩 리스트 얕은 복사\n",
    "g = [1, 2, [3, 4]]\n",
    "h = g[:]\n",
    "\n",
    "g[2][0] = 30\n",
    "print(g, h) # [1, 2, [30, 4]] [1, 2, [30, 4]]"
   ]
  },
  {
   "cell_type": "code",
   "execution_count": 8,
   "id": "331b59c4",
   "metadata": {},
   "outputs": [
    {
     "name": "stdout",
     "output_type": "stream",
     "text": [
      "[1, 2, [30, 4]] [1, 2, [3, 4]]\n"
     ]
    }
   ],
   "source": [
    "#깊은 복사\n",
    "import copy\n",
    "\n",
    "i = [1, 2, [3, 4]]\n",
    "j = copy.deepcopy(i)\n",
    "\n",
    "i[2][0] = 30\n",
    "print(i, j) # [1, 2, [30, 4]] [1, 2, [3, 4]]"
   ]
  }
 ],
 "metadata": {
  "kernelspec": {
   "display_name": "Python 3 (ipykernel)",
   "language": "python",
   "name": "python3"
  },
  "language_info": {
   "codemirror_mode": {
    "name": "ipython",
    "version": 3
   },
   "file_extension": ".py",
   "mimetype": "text/x-python",
   "name": "python",
   "nbconvert_exporter": "python",
   "pygments_lexer": "ipython3",
   "version": "3.9.13"
  }
 },
 "nbformat": 4,
 "nbformat_minor": 5
}
