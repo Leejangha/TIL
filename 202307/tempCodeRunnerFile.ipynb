blood_types = ['A', 'B', 'O', 'AB', 'O', 'AB', 'B', 'O', 'B', 'O', 'AB']

new_dict = {}
for blood_type in blood_types:
    if blood_type in new_dict:
        new_dict[blood_type] += 1
    else:
        new_dict[blood_type] = 1
print(new_dict)

new_dict = {}
for blood_type in blood_types:
    new_dict.get(blood_type, 0)
    new_dict[blood_type] += 1
print(new_dict)