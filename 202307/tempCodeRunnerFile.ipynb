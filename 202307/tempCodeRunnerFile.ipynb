import random

def seat():
    seats = random.range(25)
    return seats

{
    'seat1' : 2,
    'seat' : seat
}