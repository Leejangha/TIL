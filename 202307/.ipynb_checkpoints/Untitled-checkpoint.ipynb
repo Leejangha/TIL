{
 "cells": [
  {
   "cell_type": "code",
   "execution_count": 13,
   "id": "7e8945e1-a2c6-4f9a-a242-015e1307f7e8",
   "metadata": {},
   "outputs": [],
   "source": [
    "# y : 다시 코드모드로 변경\n",
    "# m : 쉘 하나가 마크다운 모드로 변경\n",
    "# a : 커서 기준 위에 쉘 하나 추가\n",
    "# b : 커서 기준 아래에 쉘 하나 추가\n",
    "# dd : 쉘 삭제\n",
    "# shift + enter : 실행 후 커서를 아래로 이동\n",
    "# ctrl + enter : 실행 후 커서를 제자리에"
   ]
  },
  {
   "cell_type": "code",
   "execution_count": 12,
   "id": "4003911c-86c9-47fc-90c6-fcf22b8319ad",
   "metadata": {},
   "outputs": [],
   "source": [
    "API_KEY = 'ea1637b7c6a1ddeb91b942933f86391e'"
   ]
  },
  {
   "cell_type": "code",
   "execution_count": 6,
   "id": "e7ce4e80-e11a-49c5-b82c-e84bfb7f104c",
   "metadata": {},
   "outputs": [
    {
     "name": "stdout",
     "output_type": "stream",
     "text": [
      "test\n"
     ]
    }
   ],
   "source": [
    "print('test')"
   ]
  },
  {
   "cell_type": "code",
   "execution_count": 31,
   "id": "14944921-0b74-4161-8d4f-c6c63fab2496",
   "metadata": {},
   "outputs": [],
   "source": [
    "city_name = 'Busan, KR'\n",
    "url = f'https://api.openweathermap.org/data/2.5/weather?q={city_name}&appid={API_KEY}'"
   ]
  },
  {
   "cell_type": "code",
   "execution_count": 36,
   "id": "a6686904-4957-422b-89bf-bb90a0f075a9",
   "metadata": {},
   "outputs": [
    {
     "data": {
      "text/plain": [
       "300.14"
      ]
     },
     "execution_count": 36,
     "metadata": {},
     "output_type": "execute_result"
    }
   ],
   "source": [
    "import requests\n",
    "# API 요청 보내기\n",
    "response = requests.get(url).json()\n",
    "# 온도만 출력\n",
    "response['main']['temp']"
   ]
  },
  {
   "cell_type": "code",
   "execution_count": null,
   "id": "168ea4ab-adca-4987-950d-2f0ac355a79b",
   "metadata": {},
   "outputs": [],
   "source": []
  }
 ],
 "metadata": {
  "kernelspec": {
   "display_name": "Python 3 (ipykernel)",
   "language": "python",
   "name": "python3"
  },
  "language_info": {
   "codemirror_mode": {
    "name": "ipython",
    "version": 3
   },
   "file_extension": ".py",
   "mimetype": "text/x-python",
   "name": "python",
   "nbconvert_exporter": "python",
   "pygments_lexer": "ipython3",
   "version": "3.9.13"
  }
 },
 "nbformat": 4,
 "nbformat_minor": 5
}
