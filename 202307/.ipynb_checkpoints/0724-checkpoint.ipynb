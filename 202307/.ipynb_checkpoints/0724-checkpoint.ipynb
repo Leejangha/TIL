{
 "cells": [
  {
   "cell_type": "code",
   "execution_count": 1,
   "id": "f66f78a1-aaf0-48eb-80a7-818784ecc1db",
   "metadata": {},
   "outputs": [
    {
     "name": "stdout",
     "output_type": "stream",
     "text": [
      "Help on class list in module builtins:\n",
      "\n",
      "class list(object)\n",
      " |  list(iterable=(), /)\n",
      " |  \n",
      " |  Built-in mutable sequence.\n",
      " |  \n",
      " |  If no argument is given, the constructor creates a new empty list.\n",
      " |  The argument must be an iterable if specified.\n",
      " |  \n",
      " |  Methods defined here:\n",
      " |  \n",
      " |  __add__(self, value, /)\n",
      " |      Return self+value.\n",
      " |  \n",
      " |  __contains__(self, key, /)\n",
      " |      Return key in self.\n",
      " |  \n",
      " |  __delitem__(self, key, /)\n",
      " |      Delete self[key].\n",
      " |  \n",
      " |  __eq__(self, value, /)\n",
      " |      Return self==value.\n",
      " |  \n",
      " |  __ge__(self, value, /)\n",
      " |      Return self>=value.\n",
      " |  \n",
      " |  __getattribute__(self, name, /)\n",
      " |      Return getattr(self, name).\n",
      " |  \n",
      " |  __getitem__(...)\n",
      " |      x.__getitem__(y) <==> x[y]\n",
      " |  \n",
      " |  __gt__(self, value, /)\n",
      " |      Return self>value.\n",
      " |  \n",
      " |  __iadd__(self, value, /)\n",
      " |      Implement self+=value.\n",
      " |  \n",
      " |  __imul__(self, value, /)\n",
      " |      Implement self*=value.\n",
      " |  \n",
      " |  __init__(self, /, *args, **kwargs)\n",
      " |      Initialize self.  See help(type(self)) for accurate signature.\n",
      " |  \n",
      " |  __iter__(self, /)\n",
      " |      Implement iter(self).\n",
      " |  \n",
      " |  __le__(self, value, /)\n",
      " |      Return self<=value.\n",
      " |  \n",
      " |  __len__(self, /)\n",
      " |      Return len(self).\n",
      " |  \n",
      " |  __lt__(self, value, /)\n",
      " |      Return self<value.\n",
      " |  \n",
      " |  __mul__(self, value, /)\n",
      " |      Return self*value.\n",
      " |  \n",
      " |  __ne__(self, value, /)\n",
      " |      Return self!=value.\n",
      " |  \n",
      " |  __repr__(self, /)\n",
      " |      Return repr(self).\n",
      " |  \n",
      " |  __reversed__(self, /)\n",
      " |      Return a reverse iterator over the list.\n",
      " |  \n",
      " |  __rmul__(self, value, /)\n",
      " |      Return value*self.\n",
      " |  \n",
      " |  __setitem__(self, key, value, /)\n",
      " |      Set self[key] to value.\n",
      " |  \n",
      " |  __sizeof__(self, /)\n",
      " |      Return the size of the list in memory, in bytes.\n",
      " |  \n",
      " |  append(self, object, /)\n",
      " |      Append object to the end of the list.\n",
      " |  \n",
      " |  clear(self, /)\n",
      " |      Remove all items from list.\n",
      " |  \n",
      " |  copy(self, /)\n",
      " |      Return a shallow copy of the list.\n",
      " |  \n",
      " |  count(self, value, /)\n",
      " |      Return number of occurrences of value.\n",
      " |  \n",
      " |  extend(self, iterable, /)\n",
      " |      Extend list by appending elements from the iterable.\n",
      " |  \n",
      " |  index(self, value, start=0, stop=9223372036854775807, /)\n",
      " |      Return first index of value.\n",
      " |      \n",
      " |      Raises ValueError if the value is not present.\n",
      " |  \n",
      " |  insert(self, index, object, /)\n",
      " |      Insert object before index.\n",
      " |  \n",
      " |  pop(self, index=-1, /)\n",
      " |      Remove and return item at index (default last).\n",
      " |      \n",
      " |      Raises IndexError if list is empty or index is out of range.\n",
      " |  \n",
      " |  remove(self, value, /)\n",
      " |      Remove first occurrence of value.\n",
      " |      \n",
      " |      Raises ValueError if the value is not present.\n",
      " |  \n",
      " |  reverse(self, /)\n",
      " |      Reverse *IN PLACE*.\n",
      " |  \n",
      " |  sort(self, /, *, key=None, reverse=False)\n",
      " |      Sort the list in ascending order and return None.\n",
      " |      \n",
      " |      The sort is in-place (i.e. the list itself is modified) and stable (i.e. the\n",
      " |      order of two equal elements is maintained).\n",
      " |      \n",
      " |      If a key function is given, apply it once to each list item and sort them,\n",
      " |      ascending or descending, according to their function values.\n",
      " |      \n",
      " |      The reverse flag can be set to sort in descending order.\n",
      " |  \n",
      " |  ----------------------------------------------------------------------\n",
      " |  Class methods defined here:\n",
      " |  \n",
      " |  __class_getitem__(...) from builtins.type\n",
      " |      See PEP 585\n",
      " |  \n",
      " |  ----------------------------------------------------------------------\n",
      " |  Static methods defined here:\n",
      " |  \n",
      " |  __new__(*args, **kwargs) from builtins.type\n",
      " |      Create and return a new object.  See help(type) for accurate signature.\n",
      " |  \n",
      " |  ----------------------------------------------------------------------\n",
      " |  Data and other attributes defined here:\n",
      " |  \n",
      " |  __hash__ = None\n",
      "\n",
      "None\n"
     ]
    }
   ],
   "source": [
    "print(help(list))"
   ]
  },
  {
   "cell_type": "code",
   "execution_count": 27,
   "id": "920b6fd5-f8be-44da-8c08-d6080c770f35",
   "metadata": {},
   "outputs": [
    {
     "name": "stdout",
     "output_type": "stream",
     "text": [
      "Hello\n",
      "[1, 2, 3, 4]\n"
     ]
    }
   ],
   "source": [
    "# 문자열 메서드 예시\n",
    "print('hello'.capitalize()) # Hello\n",
    "\n",
    "# 리스트 메서드 예시\n",
    "numbers = [1, 2, 3]\n",
    "numbers.append(4)\n",
    "\n",
    "print(numbers) # [1, 2, 3, 4]"
   ]
  },
  {
   "cell_type": "code",
   "execution_count": 39,
   "id": "404cf191-562a-4041-8fbf-fcf9ee67f48f",
   "metadata": {},
   "outputs": [
    {
     "name": "stdout",
     "output_type": "stream",
     "text": [
      "-1\n",
      "0\n",
      "True\n",
      "False\n",
      "True\n",
      "False\n"
     ]
    }
   ],
   "source": [
    "s = 'hello'\n",
    "\n",
    "print(s.find('x')) # -1\n",
    "print(s.index('x')) # error\n",
    "print(s.isalpha()) # True\n",
    "print(s.isupper()) # False\n",
    "print(s.islower()) # True\n",
    "print(s.istitle()) # False"
   ]
  },
  {
   "cell_type": "code",
   "execution_count": 62,
   "id": "4737091a-fa15-4662-8bb1-b516a582fd50",
   "metadata": {},
   "outputs": [
    {
     "name": "stdout",
     "output_type": "stream",
     "text": [
      "hello, python!\n",
      "hello, world!\n",
      "['hello', ' world!']\n",
      "Hello-world!\n",
      "Hello, world!\n",
      "Hello, World!\n",
      "HELLO, WORLD!\n",
      "HEllO, WOrLD!\n"
     ]
    }
   ],
   "source": [
    "s = 'hello, world!'\n",
    "s2 = '  hello, world!  '\n",
    "words = ['Hello', 'world!']\n",
    "text = 'heLLo, woRld!'\n",
    "\n",
    "print(s.replace('world', 'python')) # hello, python\n",
    "print(s2.strip()) # hello, world!\n",
    "print(s.split(',')) # ['hello', ' world!']\n",
    "print('-'.join(words)) # Hello-world!\n",
    "print(text.capitalize()) # Hello, world!\n",
    "print(text.title()) # Hello, World!\n",
    "print(text.upper()) # HELLO, WORLD!\n",
    "print(text.swapcase()) # HEllO, WOrLD!"
   ]
  },
  {
   "cell_type": "code",
   "execution_count": 12,
   "id": "a7edee31-7f9b-4b4f-8509-d4569df61b1b",
   "metadata": {},
   "outputs": [
    {
     "data": {
      "text/plain": [
       "'g-e-g-g'"
      ]
     },
     "execution_count": 12,
     "metadata": {},
     "output_type": "execute_result"
    }
   ],
   "source": [
    "text = 'gegg'\n",
    "'-'.join(text)"
   ]
  },
  {
   "cell_type": "code",
   "execution_count": 75,
   "id": "5a25debf-26ff-4ac1-9f45-13e6cebab277",
   "metadata": {},
   "outputs": [
    {
     "name": "stdout",
     "output_type": "stream",
     "text": [
      "[1, 2, 3, 4]\n",
      "[1, 2, 3, 4, 4, 5, 6]\n",
      "[1, 5, 2, 3, 4, 4, 5, 6]\n",
      "[1, 5, 3, 4, 4, 5, 6]\n",
      "6\n",
      "1\n",
      "[5, 3, 4, 4, 5]\n",
      "[]\n"
     ]
    }
   ],
   "source": [
    "my_list = [1, 2, 3]\n",
    "my_list.append(4)\n",
    "print(my_list) # [1, 2, 3, 4]\n",
    "my_list.extend([4, 5, 6])\n",
    "print(my_list) # [1, 2, 3, 4, 4, 5, 6]\n",
    "my_list.insert(1,5)\n",
    "print(my_list) # [1, 5, 2, 3, 4, 4, 5, 6]\n",
    "my_list.remove(2)\n",
    "print(my_list) # [1, 5, 3, 4, 4, 5, 6]\n",
    "item1 = my_list.pop()\n",
    "item2 = my_list.pop(0)\n",
    "print(item1) # 6\n",
    "print(item2) # 1\n",
    "print(my_list) # [5, 3, 4, 4, 5]\n",
    "my_list.clear()\n",
    "print(my_list) # []"
   ]
  },
  {
   "cell_type": "code",
   "execution_count": 88,
   "id": "59c3ae9f-66c1-4832-bafe-d97baec74f58",
   "metadata": {},
   "outputs": [
    {
     "name": "stdout",
     "output_type": "stream",
     "text": [
      "1\n",
      "3\n",
      "[1, 2, 3, 3, 3, 8, 9]\n",
      "[9, 8, 3, 3, 3, 2, 1]\n",
      "[1, 2, 3, 3, 3, 8, 9]\n",
      "[9, 8, 3, 3, 3, 2, 1]\n",
      "[1, 2, 3, 3, 3, 8, 9]\n"
     ]
    }
   ],
   "source": [
    "numbers = [3, 2, 1, 3, 8, 3, 9]\n",
    "print(numbers.index(2)) # 1\n",
    "print(numbers.count(3)) # 3\n",
    "#sort 메서드\n",
    "numbers.sort() # 원본을 정렬\n",
    "print(numbers) # [1, 2, 3, 3, 3, 8, 9]\n",
    "# 내림차순\n",
    "numbers.sort(reverse = True)\n",
    "print(numbers) # [9, 8, 3, 3, 3, 2, 1]\n",
    "# sorted 함수\n",
    "print(sorted(numbers)) # 복사본을 반환 [1, 2, 3, 3, 3, 8, 9]\n",
    "print(numbers) # [9, 8, 3, 3, 3, 2, 1]\n",
    "numbers.reverse()\n",
    "print(numbers) # [1, 2, 3, 3, 3, 8, 9]"
   ]
  },
  {
   "cell_type": "code",
   "execution_count": 26,
   "id": "f3b7f7b1-47e5-48e0-8c3e-b045b9c4d431",
   "metadata": {},
   "outputs": [
    {
     "name": "stdout",
     "output_type": "stream",
     "text": [
      "[100, 2, 3]\n",
      "[1, 2, 3]\n"
     ]
    }
   ],
   "source": [
    "numbers = [1, 2, 3]\n",
    "\n",
    "# 1. 할당\n",
    "list1 = numbers\n",
    "\n",
    "# 2. 슬라이싱\n",
    "list2 = numbers[:]\n",
    "\n",
    "numbers[0] = 100\n",
    "print(list1)\n",
    "print(list2)"
   ]
  },
  {
   "cell_type": "code",
   "execution_count": null,
   "id": "94a65295-b718-4352-a333-e3a7026e09cd",
   "metadata": {},
   "outputs": [],
   "source": []
  }
 ],
 "metadata": {
  "kernelspec": {
   "display_name": "Python 3 (ipykernel)",
   "language": "python",
   "name": "python3"
  },
  "language_info": {
   "codemirror_mode": {
    "name": "ipython",
    "version": 3
   },
   "file_extension": ".py",
   "mimetype": "text/x-python",
   "name": "python",
   "nbconvert_exporter": "python",
   "pygments_lexer": "ipython3",
   "version": "3.9.13"
  }
 },
 "nbformat": 4,
 "nbformat_minor": 5
}
