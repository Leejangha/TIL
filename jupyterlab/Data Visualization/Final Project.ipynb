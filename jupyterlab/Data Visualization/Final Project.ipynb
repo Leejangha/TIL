{
 "cells": [
  {
   "cell_type": "code",
   "execution_count": 2,
   "id": "0f14c24e-cd01-47c4-91ba-50756c802e95",
   "metadata": {},
   "outputs": [],
   "source": [
    "# Fill in the line below: Specify the path of the CSV file to read\n",
    "my_filepath = \"data/revenue_target.csv\""
   ]
  },
  {
   "cell_type": "code",
   "execution_count": 3,
   "id": "caf32b5a-7bfd-4fc1-a3db-48a69f4414d7",
   "metadata": {
    "tags": []
   },
   "outputs": [],
   "source": [
    "my_data = pd.read_csv(my_filepath, index_col=\"CLIENTNUM\")"
   ]
  },
  {
   "cell_type": "code",
   "execution_count": 4,
   "id": "faa6caef-4e27-463c-82f7-55b5a3af125a",
   "metadata": {
    "tags": []
   },
   "outputs": [
    {
     "data": {
      "text/html": [
       "<div>\n",
       "<style scoped>\n",
       "    .dataframe tbody tr th:only-of-type {\n",
       "        vertical-align: middle;\n",
       "    }\n",
       "\n",
       "    .dataframe tbody tr th {\n",
       "        vertical-align: top;\n",
       "    }\n",
       "\n",
       "    .dataframe thead th {\n",
       "        text-align: right;\n",
       "    }\n",
       "</style>\n",
       "<table border=\"1\" class=\"dataframe\">\n",
       "  <thead>\n",
       "    <tr style=\"text-align: right;\">\n",
       "      <th></th>\n",
       "      <th>quarter</th>\n",
       "      <th>Year</th>\n",
       "      <th>Date</th>\n",
       "      <th>Type</th>\n",
       "      <th>Card_Category</th>\n",
       "      <th>Target Revenue</th>\n",
       "    </tr>\n",
       "    <tr>\n",
       "      <th>CLIENTNUM</th>\n",
       "      <th></th>\n",
       "      <th></th>\n",
       "      <th></th>\n",
       "      <th></th>\n",
       "      <th></th>\n",
       "      <th></th>\n",
       "    </tr>\n",
       "  </thead>\n",
       "  <tbody>\n",
       "    <tr>\n",
       "      <th>708082083</th>\n",
       "      <td>Q1</td>\n",
       "      <td>2018</td>\n",
       "      <td>Q1,2018</td>\n",
       "      <td>Shop</td>\n",
       "      <td>Blue</td>\n",
       "      <td>4.204200</td>\n",
       "    </tr>\n",
       "    <tr>\n",
       "      <th>708083283</th>\n",
       "      <td>Q1</td>\n",
       "      <td>2018</td>\n",
       "      <td>Q1,2018</td>\n",
       "      <td>Shop</td>\n",
       "      <td>Blue</td>\n",
       "      <td>4.744425</td>\n",
       "    </tr>\n",
       "    <tr>\n",
       "      <th>708084558</th>\n",
       "      <td>Q1</td>\n",
       "      <td>2018</td>\n",
       "      <td>Q1,2018</td>\n",
       "      <td>Shop</td>\n",
       "      <td>Blue</td>\n",
       "      <td>13.869450</td>\n",
       "    </tr>\n",
       "    <tr>\n",
       "      <th>708085458</th>\n",
       "      <td>Q1</td>\n",
       "      <td>2018</td>\n",
       "      <td>Q1,2018</td>\n",
       "      <td>Shop</td>\n",
       "      <td>Blue</td>\n",
       "      <td>4.303425</td>\n",
       "    </tr>\n",
       "    <tr>\n",
       "      <th>708086958</th>\n",
       "      <td>Q1</td>\n",
       "      <td>2018</td>\n",
       "      <td>Q1,2018</td>\n",
       "      <td>Shop</td>\n",
       "      <td>Blue</td>\n",
       "      <td>4.712400</td>\n",
       "    </tr>\n",
       "  </tbody>\n",
       "</table>\n",
       "</div>"
      ],
      "text/plain": [
       "          quarter  Year     Date  Type Card_Category  Target Revenue\n",
       "CLIENTNUM                                                           \n",
       "708082083      Q1  2018  Q1,2018  Shop          Blue        4.204200\n",
       "708083283      Q1  2018  Q1,2018  Shop          Blue        4.744425\n",
       "708084558      Q1  2018  Q1,2018  Shop          Blue       13.869450\n",
       "708085458      Q1  2018  Q1,2018  Shop          Blue        4.303425\n",
       "708086958      Q1  2018  Q1,2018  Shop          Blue        4.712400"
      ]
     },
     "execution_count": 4,
     "metadata": {},
     "output_type": "execute_result"
    }
   ],
   "source": [
    "my_data.head()"
   ]
  },
  {
   "cell_type": "code",
   "execution_count": null,
   "id": "a5e74e0f-f0ba-4d8d-a2c4-2bc77649058d",
   "metadata": {
    "tags": []
   },
   "outputs": [],
   "source": [
    "sns.lineplot(data=my_data) # Your code here"
   ]
  },
  {
   "cell_type": "code",
   "execution_count": null,
   "id": "e30d7208-a247-4c28-ad68-2b3390cbae82",
   "metadata": {},
   "outputs": [],
   "source": []
  }
 ],
 "metadata": {
  "kernelspec": {
   "display_name": "Python 3 (ipykernel)",
   "language": "python",
   "name": "python3"
  },
  "language_info": {
   "codemirror_mode": {
    "name": "ipython",
    "version": 3
   },
   "file_extension": ".py",
   "mimetype": "text/x-python",
   "name": "python",
   "nbconvert_exporter": "python",
   "pygments_lexer": "ipython3",
   "version": "3.11.9"
  }
 },
 "nbformat": 4,
 "nbformat_minor": 5
}
