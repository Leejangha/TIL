{
 "cells": [
  {
   "cell_type": "code",
   "execution_count": 38,
   "id": "af2390bd-9685-4e66-afdb-f40f490ec0bc",
   "metadata": {
    "tags": []
   },
   "outputs": [
    {
     "data": {
      "text/plain": [
       "array([[10, 20, 30, 40],\n",
       "       [50, 60, 70, 80]])"
      ]
     },
     "execution_count": 38,
     "metadata": {},
     "output_type": "execute_result"
    }
   ],
   "source": [
    "#3.1.1\n",
    "c = np.array([[10, 20, 30, 40],[50, 60, 70, 80]])\n",
    "c"
   ]
  },
  {
   "cell_type": "code",
   "execution_count": 39,
   "id": "46833ddd-13de-4af8-8ca4-3ffbb84cf3a5",
   "metadata": {
    "tags": []
   },
   "outputs": [],
   "source": [
    "#3.1.2\n",
    "m = np.array([[ 0,  1,  2,  3,  4],\n",
    "            [ 5,  6,  7,  8,  9],\n",
    "            [10, 11, 12, 13, 14]])"
   ]
  },
  {
   "cell_type": "code",
   "execution_count": 26,
   "id": "a0fc99a0-c14a-42bc-8494-20c4fb71a77b",
   "metadata": {
    "tags": []
   },
   "outputs": [
    {
     "data": {
      "text/plain": [
       "(7,\n",
       " 14,\n",
       " array([6, 7]),\n",
       " array([ 7, 12]),\n",
       " array([[3, 4],\n",
       "        [8, 9]]))"
      ]
     },
     "execution_count": 26,
     "metadata": {},
     "output_type": "execute_result"
    }
   ],
   "source": [
    "m[1,2], m[-1,-1], m[1,1:3], m[1:, 2], m[:2, 3:]"
   ]
  },
  {
   "cell_type": "code",
   "execution_count": 27,
   "id": "e3684dff-0904-4cfe-9fb6-11d0486db4e7",
   "metadata": {
    "tags": []
   },
   "outputs": [
    {
     "data": {
      "text/plain": [
       "array([[ 1,  2,  3,  4],\n",
       "       [ 5,  6,  7,  8],\n",
       "       [ 9, 10, 11, 12]])"
      ]
     },
     "execution_count": 27,
     "metadata": {},
     "output_type": "execute_result"
    }
   ],
   "source": [
    "a = np.array([[1, 2, 3, 4], [5, 6, 7, 8], [9, 10, 11, 12]])\n",
    "a"
   ]
  },
  {
   "cell_type": "code",
   "execution_count": 28,
   "id": "c9dfaeda-0807-48fe-92f9-ef16423eb290",
   "metadata": {
    "tags": []
   },
   "outputs": [
    {
     "data": {
      "text/plain": [
       "array([[ 1,  4],\n",
       "       [ 5,  8],\n",
       "       [ 9, 12]])"
      ]
     },
     "execution_count": 28,
     "metadata": {},
     "output_type": "execute_result"
    }
   ],
   "source": [
    "a[:, [True, False, False, True]]"
   ]
  },
  {
   "cell_type": "code",
   "execution_count": 29,
   "id": "a084de61-f111-4801-9cb5-dcea1b7d4824",
   "metadata": {
    "tags": []
   },
   "outputs": [
    {
     "data": {
      "text/plain": [
       "array([[ 9, 10, 11, 12],\n",
       "       [ 1,  2,  3,  4],\n",
       "       [ 5,  6,  7,  8]])"
      ]
     },
     "execution_count": 29,
     "metadata": {},
     "output_type": "execute_result"
    }
   ],
   "source": [
    "a[[2, 0, 1], :]"
   ]
  },
  {
   "cell_type": "code",
   "execution_count": 30,
   "id": "e9f4279b-3add-4a3a-a73a-d093e36ccc11",
   "metadata": {
    "tags": []
   },
   "outputs": [
    {
     "data": {
      "text/plain": [
       "array([[ 9, 10, 11, 12],\n",
       "       [ 1,  2,  3,  4],\n",
       "       [ 5,  6,  7,  8]])"
      ]
     },
     "execution_count": 30,
     "metadata": {},
     "output_type": "execute_result"
    }
   ],
   "source": [
    "a[[2, 0, 1], :]"
   ]
  },
  {
   "cell_type": "code",
   "execution_count": 37,
   "id": "14d6d51e-81f8-4cac-9d1c-c180ae35001f",
   "metadata": {
    "tags": []
   },
   "outputs": [
    {
     "data": {
      "text/plain": [
       "(array([ 3,  6,  9, 12, 15, 18]), array([ 1,  5,  9, 13, 17]), array([9]))"
      ]
     },
     "execution_count": 37,
     "metadata": {},
     "output_type": "execute_result"
    }
   ],
   "source": [
    "#3.1.3\n",
    "x = np.array([1, 2, 3, 4, 5, 6, 7, 8, 9, 10,\n",
    "             11, 12, 13, 14, 15, 16, 17, 18, 19, 20])\n",
    "x[x % 3 == 0], x[x % 4 == 1], x[(x % 3 == 0) & (x % 4 == 1)]"
   ]
  },
  {
   "cell_type": "code",
   "execution_count": 61,
   "id": "6e7c1b22-d3c0-4c35-8e38-bc56560644c2",
   "metadata": {
    "tags": []
   },
   "outputs": [
    {
     "data": {
      "text/plain": [
       "array([[  0.,   0.,   0.,   1.,   1.],\n",
       "       [  0.,   0.,   0.,   1.,   1.],\n",
       "       [  0.,   0.,   0.,   1.,   1.],\n",
       "       [ 10.,  20.,  30.,  40.,  50.],\n",
       "       [ 60.,  70.,  80.,  90., 100.],\n",
       "       [110., 120., 130., 140., 150.],\n",
       "       [  0.,   0.,   0.,   1.,   1.],\n",
       "       [  0.,   0.,   0.,   1.,   1.],\n",
       "       [  0.,   0.,   0.,   1.,   1.],\n",
       "       [ 10.,  20.,  30.,  40.,  50.],\n",
       "       [ 60.,  70.,  80.,  90., 100.],\n",
       "       [110., 120., 130., 140., 150.]])"
      ]
     },
     "execution_count": 61,
     "metadata": {},
     "output_type": "execute_result"
    }
   ],
   "source": [
    "#3.2.1\n",
    "a = np.zeros((3,3))\n",
    "b = np.ones((3,2))\n",
    "x = np.hstack([a,b])\n",
    "c = np.arange(10, 160, 10)\n",
    "c = c.reshape(3,-1)\n",
    "y = np.r_[x,c]\n",
    "y = np.tile(y, (2,1))\n",
    "y"
   ]
  },
  {
   "cell_type": "code",
   "execution_count": null,
   "id": "7cbe6961-d025-4518-86c0-083ff5357fa8",
   "metadata": {},
   "outputs": [],
   "source": []
  }
 ],
 "metadata": {
  "kernelspec": {
   "display_name": "Python 3 (ipykernel)",
   "language": "python",
   "name": "python3"
  },
  "language_info": {
   "codemirror_mode": {
    "name": "ipython",
    "version": 3
   },
   "file_extension": ".py",
   "mimetype": "text/x-python",
   "name": "python",
   "nbconvert_exporter": "python",
   "pygments_lexer": "ipython3",
   "version": "3.11.4"
  }
 },
 "nbformat": 4,
 "nbformat_minor": 5
}
