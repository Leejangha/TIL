{
 "cells": [
  {
   "cell_type": "code",
   "execution_count": 1,
   "id": "b3c2782e-73a7-428a-9a7d-c7c4fe0391b4",
   "metadata": {
    "tags": []
   },
   "outputs": [],
   "source": [
    "import matplotlib.font_manager"
   ]
  },
  {
   "cell_type": "code",
   "execution_count": 2,
   "id": "5c3cf2d7-2c66-469f-a841-04fa8c0ae11e",
   "metadata": {
    "tags": []
   },
   "outputs": [
    {
     "data": {
      "text/plain": [
       "['Nanum Brush Script',\n",
       " 'Nanum Brush Script',\n",
       " 'Nanum Pen Script',\n",
       " 'Nanum Pen Script',\n",
       " 'NanumBarunGothic',\n",
       " 'NanumBarunGothic',\n",
       " 'NanumBarunGothic',\n",
       " 'NanumBarunGothic',\n",
       " 'NanumBarunGothic',\n",
       " 'NanumBarunGothic',\n",
       " 'NanumBarunGothic',\n",
       " 'NanumBarunGothic',\n",
       " 'NanumBarunGothic YetHangul',\n",
       " 'NanumBarunGothic YetHangul',\n",
       " 'NanumBarunpen',\n",
       " 'NanumBarunpen',\n",
       " 'NanumBarunpen',\n",
       " 'NanumBarunpen',\n",
       " 'NanumGothic',\n",
       " 'NanumGothic',\n",
       " 'NanumGothic',\n",
       " 'NanumGothic',\n",
       " 'NanumGothic',\n",
       " 'NanumGothic',\n",
       " 'NanumGothic',\n",
       " 'NanumGothic',\n",
       " 'NanumGothic Eco',\n",
       " 'NanumGothic Eco',\n",
       " 'NanumGothic Eco',\n",
       " 'NanumGothic Eco',\n",
       " 'NanumGothic Eco',\n",
       " 'NanumGothic Eco',\n",
       " 'NanumMyeongjo',\n",
       " 'NanumMyeongjo',\n",
       " 'NanumMyeongjo',\n",
       " 'NanumMyeongjo',\n",
       " 'NanumMyeongjo',\n",
       " 'NanumMyeongjo',\n",
       " 'NanumMyeongjo Eco',\n",
       " 'NanumMyeongjo Eco',\n",
       " 'NanumMyeongjo Eco',\n",
       " 'NanumMyeongjo Eco',\n",
       " 'NanumMyeongjo Eco',\n",
       " 'NanumMyeongjo Eco',\n",
       " 'NanumMyeongjo YetHangul',\n",
       " 'NanumMyeongjo YetHangul',\n",
       " 'NanumSquare',\n",
       " 'NanumSquare',\n",
       " 'NanumSquare',\n",
       " 'NanumSquare',\n",
       " 'NanumSquare',\n",
       " 'NanumSquare',\n",
       " 'NanumSquare',\n",
       " 'NanumSquare',\n",
       " 'NanumSquare Neo',\n",
       " 'NanumSquare Neo',\n",
       " 'NanumSquare Neo',\n",
       " 'NanumSquare Neo',\n",
       " 'NanumSquare Neo',\n",
       " 'NanumSquare Neo',\n",
       " 'NanumSquare Neo',\n",
       " 'NanumSquare Neo',\n",
       " 'NanumSquare Neo',\n",
       " 'NanumSquare Neo',\n",
       " 'NanumSquare Neo variable',\n",
       " 'NanumSquare Neo variable',\n",
       " 'NanumSquareRound',\n",
       " 'NanumSquareRound',\n",
       " 'NanumSquareRound',\n",
       " 'NanumSquareRound',\n",
       " 'NanumSquareRound',\n",
       " 'NanumSquareRound',\n",
       " 'NanumSquareRound',\n",
       " 'NanumSquareRound',\n",
       " 'NanumSquare_ac',\n",
       " 'NanumSquare_ac',\n",
       " 'NanumSquare_ac',\n",
       " 'NanumSquare_ac',\n",
       " 'NanumSquare_ac',\n",
       " 'NanumSquare_ac',\n",
       " 'NanumSquare_ac',\n",
       " 'NanumSquare_ac']"
      ]
     },
     "execution_count": 2,
     "metadata": {},
     "output_type": "execute_result"
    }
   ],
   "source": [
    "sorted([f.name for f in matplotlib.font_manager.fontManager.ttflist if f.name.startswith(\"Nanum\")])"
   ]
  },
  {
   "cell_type": "code",
   "execution_count": 4,
   "id": "2402e162-0cde-4567-a1dc-320975c5f8c6",
   "metadata": {
    "tags": []
   },
   "outputs": [
    {
     "data": {
      "text/plain": [
       "[]"
      ]
     },
     "execution_count": 4,
     "metadata": {},
     "output_type": "execute_result"
    }
   ],
   "source": [
    "sorted([f.name for f in matplotlib.font_manager.fontManager.ttflist if f.name.startswith(\"Nanum\")])"
   ]
  },
  {
   "cell_type": "code",
   "execution_count": 4,
   "id": "8d7bfe3e-d046-4376-93ad-14a5d562a8ea",
   "metadata": {},
   "outputs": [
    {
     "data": {
      "text/plain": [
       "500000000.0"
      ]
     },
     "execution_count": 4,
     "metadata": {},
     "output_type": "execute_result"
    }
   ],
   "source": [
    "5e8"
   ]
  },
  {
   "cell_type": "code",
   "execution_count": 5,
   "id": "4200b901-5cd2-4b3d-9f13-7cc74e8b731b",
   "metadata": {
    "tags": []
   },
   "outputs": [
    {
     "data": {
      "text/plain": [
       "5600.0"
      ]
     },
     "execution_count": 5,
     "metadata": {},
     "output_type": "execute_result"
    }
   ],
   "source": [
    "5.6e3"
   ]
  },
  {
   "cell_type": "code",
   "execution_count": 6,
   "id": "58e336e4-958f-4f65-a1e9-d734ca183ce0",
   "metadata": {
    "tags": []
   },
   "outputs": [
    {
     "data": {
      "text/plain": [
       "-210.0"
      ]
     },
     "execution_count": 6,
     "metadata": {},
     "output_type": "execute_result"
    }
   ],
   "source": [
    "-2.1e2"
   ]
  },
  {
   "cell_type": "code",
   "execution_count": 7,
   "id": "0cb34bb0-d453-4fe4-949f-df0b28196e7a",
   "metadata": {
    "tags": []
   },
   "outputs": [
    {
     "data": {
      "text/plain": [
       "-0.34"
      ]
     },
     "execution_count": 7,
     "metadata": {},
     "output_type": "execute_result"
    }
   ],
   "source": [
    "-3.4e-1"
   ]
  },
  {
   "cell_type": "code",
   "execution_count": 8,
   "id": "5ab3b64b-17e2-437f-a7bd-14421e6a3f76",
   "metadata": {
    "tags": []
   },
   "outputs": [
    {
     "data": {
      "text/plain": [
       "3.141592"
      ]
     },
     "execution_count": 8,
     "metadata": {},
     "output_type": "execute_result"
    }
   ],
   "source": [
    "3141592e-6"
   ]
  },
  {
   "cell_type": "code",
   "execution_count": 9,
   "id": "21ad7a94-1db7-408e-b96a-e66a2eaddec7",
   "metadata": {
    "tags": []
   },
   "outputs": [
    {
     "data": {
      "text/plain": [
       "'0b1101'"
      ]
     },
     "execution_count": 9,
     "metadata": {},
     "output_type": "execute_result"
    }
   ],
   "source": [
    "bin(13)"
   ]
  },
  {
   "cell_type": "code",
   "execution_count": 10,
   "id": "d440a4fc-4924-41f8-8da9-d270c32acc38",
   "metadata": {
    "tags": []
   },
   "outputs": [
    {
     "ename": "TypeError",
     "evalue": "'float' object cannot be interpreted as an integer",
     "output_type": "error",
     "traceback": [
      "\u001b[1;31m---------------------------------------------------------------------------\u001b[0m",
      "\u001b[1;31mTypeError\u001b[0m                                 Traceback (most recent call last)",
      "Cell \u001b[1;32mIn[10], line 1\u001b[0m\n\u001b[1;32m----> 1\u001b[0m \u001b[38;5;28mbin\u001b[39m(\u001b[38;5;241m0.8\u001b[39m)\n",
      "\u001b[1;31mTypeError\u001b[0m: 'float' object cannot be interpreted as an integer"
     ]
    }
   ],
   "source": [
    "bin(0.8)"
   ]
  },
  {
   "cell_type": "code",
   "execution_count": 11,
   "id": "86ac96c4-abc0-478c-9434-4cd227a601c4",
   "metadata": {
    "tags": []
   },
   "outputs": [
    {
     "ename": "TypeError",
     "evalue": "'float' object cannot be interpreted as an integer",
     "output_type": "error",
     "traceback": [
      "\u001b[1;31m---------------------------------------------------------------------------\u001b[0m",
      "\u001b[1;31mTypeError\u001b[0m                                 Traceback (most recent call last)",
      "Cell \u001b[1;32mIn[11], line 1\u001b[0m\n\u001b[1;32m----> 1\u001b[0m \u001b[38;5;28mbin\u001b[39m(\u001b[38;5;241m1.25\u001b[39m)\n",
      "\u001b[1;31mTypeError\u001b[0m: 'float' object cannot be interpreted as an integer"
     ]
    }
   ],
   "source": [
    "bin(1.25)"
   ]
  },
  {
   "cell_type": "code",
   "execution_count": 12,
   "id": "eabb34ce-2cd9-49c1-92a4-1b0ff45af3bd",
   "metadata": {
    "tags": []
   },
   "outputs": [
    {
     "data": {
      "text/plain": [
       "0.8"
      ]
     },
     "execution_count": 12,
     "metadata": {},
     "output_type": "execute_result"
    }
   ],
   "source": [
    "0.8"
   ]
  },
  {
   "cell_type": "code",
   "execution_count": 16,
   "id": "4c7fc54a-d54f-4576-bf82-43c458c98761",
   "metadata": {
    "tags": []
   },
   "outputs": [
    {
     "data": {
      "text/plain": [
       "'%r'"
      ]
     },
     "execution_count": 16,
     "metadata": {},
     "output_type": "execute_result"
    }
   ],
   "source": [
    "%precision %r"
   ]
  },
  {
   "cell_type": "code",
   "execution_count": 17,
   "id": "67e35e13-762b-4404-a2da-87e7f11f6b8c",
   "metadata": {
    "tags": []
   },
   "outputs": [
    {
     "data": {
      "text/plain": [
       "0.1"
      ]
     },
     "execution_count": 17,
     "metadata": {},
     "output_type": "execute_result"
    }
   ],
   "source": [
    "0.1"
   ]
  },
  {
   "cell_type": "code",
   "execution_count": 18,
   "id": "6900c9aa-842f-40b9-8ace-18743ce16c8d",
   "metadata": {
    "tags": []
   },
   "outputs": [
    {
     "data": {
      "text/plain": [
       "0.8"
      ]
     },
     "execution_count": 18,
     "metadata": {},
     "output_type": "execute_result"
    }
   ],
   "source": [
    "0.8"
   ]
  },
  {
   "cell_type": "code",
   "execution_count": 19,
   "id": "f2d98722-70d7-4e73-83c0-74452bfeb1a2",
   "metadata": {
    "tags": []
   },
   "outputs": [
    {
     "data": {
      "text/plain": [
       "True"
      ]
     },
     "execution_count": 19,
     "metadata": {},
     "output_type": "execute_result"
    }
   ],
   "source": [
    "round(0.1 + 0.2) == round(0.3)"
   ]
  },
  {
   "cell_type": "code",
   "execution_count": 20,
   "id": "0b6f379d-2a7f-404f-840b-e9a004b41bf0",
   "metadata": {
    "tags": []
   },
   "outputs": [
    {
     "ename": "SyntaxError",
     "evalue": "invalid syntax (2978722373.py, line 1)",
     "output_type": "error",
     "traceback": [
      "\u001b[1;36m  Cell \u001b[1;32mIn[20], line 1\u001b[1;36m\u001b[0m\n\u001b[1;33m    Beautiful is better than ugly.\u001b[0m\n\u001b[1;37m                        ^\u001b[0m\n\u001b[1;31mSyntaxError\u001b[0m\u001b[1;31m:\u001b[0m invalid syntax\n"
     ]
    }
   ],
   "source": []
  },
  {
   "cell_type": "code",
   "execution_count": 23,
   "id": "0ffd288c-661e-4a95-90c7-ce5c6ce114e7",
   "metadata": {
    "tags": []
   },
   "outputs": [
    {
     "name": "stdout",
     "output_type": "stream",
     "text": [
      "\n",
      "Beautiful is better than ugly.\n",
      "Explicit is better than implicit.\n",
      "Simple is better than complex.\n",
      "Complex is better than complicated.\n",
      "Flat is better than nested.\n",
      "Sparse is better than dense.\n",
      "\n"
     ]
    }
   ],
   "source": [
    "multi_string = \"\"\"\n",
    "Beautiful is better than ugly.\n",
    "Explicit is better than implicit.\n",
    "Simple is better than complex.\n",
    "Complex is better than complicated.\n",
    "Flat is better than nested.\n",
    "Sparse is better than dense.\n",
    "\"\"\"\n",
    "print(multi_string)"
   ]
  },
  {
   "cell_type": "code",
   "execution_count": 24,
   "id": "d63ada6e-2a2f-4763-b73a-25f57ac22418",
   "metadata": {
    "tags": []
   },
   "outputs": [
    {
     "ename": "SyntaxError",
     "evalue": "incomplete input (578919639.py, line 3)",
     "output_type": "error",
     "traceback": [
      "\u001b[1;36m  Cell \u001b[1;32mIn[24], line 3\u001b[1;36m\u001b[0m\n\u001b[1;33m    print(\"\"\"\u001b[0m\n\u001b[1;37m          ^\u001b[0m\n\u001b[1;31mSyntaxError\u001b[0m\u001b[1;31m:\u001b[0m incomplete input\n"
     ]
    }
   ],
   "source": [
    "a = 3\n",
    "b = 12\n",
    "print(\"\"\"\n",
    "     {a}\n",
    "X    {b}\n",
    "--------\n",
    "     {a*b}\n",
    "'''"
   ]
  },
  {
   "cell_type": "code",
   "execution_count": 32,
   "id": "32d58b65-bbcc-46dc-9c89-0aac12c3c7f2",
   "metadata": {
    "tags": []
   },
   "outputs": [
    {
     "name": "stdout",
     "output_type": "stream",
     "text": [
      "       3\n",
      "x     12\n",
      "--------\n",
      "      36\n"
     ]
    }
   ],
   "source": [
    "a = 3\n",
    "b = 12\n",
    "print(\"%8d\" % a)\n",
    "print(\"x\", end='')\n",
    "print(\"%7d\" % b)\n",
    "print(\"-\"*8)\n",
    "print(\"%8d\" % (a*b))"
   ]
  },
  {
   "cell_type": "code",
   "execution_count": 37,
   "id": "6d87e5a2-a5f3-47de-8dfa-8460e249e5aa",
   "metadata": {
    "tags": []
   },
   "outputs": [
    {
     "name": "stdout",
     "output_type": "stream",
     "text": [
      "        33\n",
      "x      122\n",
      "----------\n",
      "      4026\n"
     ]
    }
   ],
   "source": [
    "a, b = 33, 122\n",
    "print(f'{a:10}')\n",
    "print(f'x{b:9}')\n",
    "print('-'*10)\n",
    "print(f'{a*b:10}')"
   ]
  },
  {
   "cell_type": "code",
   "execution_count": 6,
   "id": "2255f516-d3e9-43b8-af19-faffb6704329",
   "metadata": {},
   "outputs": [],
   "source": [
    "def diffsum(a, b, c):\n",
    "    sum_nums = a + b + c\n",
    "    sum_ex_nums = a**2 + b**2 + c**2\n",
    "    return abs(sum_ex_nums-sum_nums)"
   ]
  },
  {
   "cell_type": "code",
   "execution_count": 11,
   "id": "386b3920-7042-40c4-9002-4b0424a02546",
   "metadata": {
    "tags": []
   },
   "outputs": [],
   "source": [
    "m = 0\n",
    "\n",
    "def diffsum2(a, b, c):\n",
    "    global m\n",
    "    n = diffsum(a, b, c)\n",
    "    if n > m:\n",
    "        m = n\n",
    "    return m"
   ]
  },
  {
   "cell_type": "code",
   "execution_count": 13,
   "id": "66281ac8-45c9-43fc-ab05-7168e4e23c1c",
   "metadata": {
    "tags": []
   },
   "outputs": [
    {
     "data": {
      "text/plain": [
       "2"
      ]
     },
     "execution_count": 13,
     "metadata": {},
     "output_type": "execute_result"
    }
   ],
   "source": [
    "diffsum2(1, 2, 1)"
   ]
  },
  {
   "cell_type": "code",
   "execution_count": 15,
   "id": "c9d68f66-f797-4391-a922-8fc2b59d858c",
   "metadata": {
    "tags": []
   },
   "outputs": [
    {
     "name": "stdout",
     "output_type": "stream",
     "text": [
      "[8192, 4096, 4096, 2048, 2048, 1024, 1024, 512]\n"
     ]
    }
   ],
   "source": [
    "lst = []\n",
    "\n",
    "for i in range(2):\n",
    "    cost = 1024\n",
    "    if i%2 == 0:\n",
    "        cost *= 2\n",
    "    else:\n",
    "        cost //= 2\n",
    "    for j in range(2):\n",
    "        if j%2 == 0:\n",
    "            cost *= 2\n",
    "        else:\n",
    "            cost //= 2\n",
    "        for k in range(2):\n",
    "            if k%2 == 0:\n",
    "                cost *= 2\n",
    "            else:\n",
    "                cost //= 2\n",
    "            lst.append(cost)\n",
    "print(lst)"
   ]
  },
  {
   "cell_type": "code",
   "execution_count": 19,
   "id": "5f155d7c-45f6-487f-ae31-a0c374a219f4",
   "metadata": {
    "tags": []
   },
   "outputs": [
    {
     "name": "stdin",
     "output_type": "stream",
     "text": [
      " 2\n"
     ]
    },
    {
     "name": "stdout",
     "output_type": "stream",
     "text": [
      "4\n"
     ]
    }
   ],
   "source": [
    "#2.7.7\n",
    "\n",
    "n = int(input())\n",
    "sum = 0\n",
    "for j in range(n):\n",
    "    for i in range(j+1):\n",
    "        sum += (i+1)\n",
    "print(sum)"
   ]
  },
  {
   "cell_type": "code",
   "execution_count": 23,
   "id": "7af1149a-1382-4be5-b372-08621e9e7e6e",
   "metadata": {
    "tags": []
   },
   "outputs": [
    {
     "data": {
      "text/plain": [
       "('길동', '철수', '영수', '방자')"
      ]
     },
     "execution_count": 23,
     "metadata": {},
     "output_type": "execute_result"
    }
   ],
   "source": [
    "#2.10.3\n",
    "x = [\n",
    "  [\"길동\", 90],\n",
    "  [\"철수\", 80],\n",
    "  [\"영수\", 70],\n",
    "  [\"방자\", 60],\n",
    "]\n",
    "name = list(zip(*x))[0]\n",
    "name"
   ]
  },
  {
   "cell_type": "code",
   "execution_count": 30,
   "id": "28d27faa-67c5-496f-8819-ea70c80949a5",
   "metadata": {
    "tags": []
   },
   "outputs": [
    {
     "name": "stdout",
     "output_type": "stream",
     "text": [
      "철수        98\n",
      "영희        80\n",
      "순이       100\n",
      "돌이        70\n",
      "===============\n",
      "평균        87\n"
     ]
    }
   ],
   "source": [
    "data = {\n",
    "    \"철수\": 98,\n",
    "    \"영희\": 80,\n",
    "    \"순이\": 100,\n",
    "    \"돌이\": 70,\n",
    "}\n",
    "SUM = 0\n",
    "for k, v in data.items():\n",
    "    SUM += v\n",
    "    print(f\"{k}{v:10}\")\n",
    "print(\"=\"*15)\n",
    "mean = SUM/len(data)\n",
    "print(f\"평균{mean:10.0f}\")"
   ]
  },
  {
   "cell_type": "code",
   "execution_count": 36,
   "id": "a223732a-ebcc-4bdb-9a82-a1d5a5a208b9",
   "metadata": {
    "tags": []
   },
   "outputs": [
    {
     "name": "stdout",
     "output_type": "stream",
     "text": [
      "12\n"
     ]
    }
   ],
   "source": [
    "#2.12.1\n",
    "class Triangle():\n",
    "    def __init__(self, b, h):\n",
    "        self.b = b\n",
    "        self.h = h\n",
    "    \n",
    "    def area(self):\n",
    "        return self.b * self.h //2\n",
    "t = Triangle(4, 6)\n",
    "print(t.area())"
   ]
  },
  {
   "cell_type": "code",
   "execution_count": 38,
   "id": "0c51f1d9-7022-45c6-bf2a-7a0261fa182b",
   "metadata": {
    "tags": []
   },
   "outputs": [
    {
     "name": "stdout",
     "output_type": "stream",
     "text": [
      "48 88\n"
     ]
    }
   ],
   "source": [
    "#2.12.2\n",
    "class squarecol():\n",
    "    def __init__(self, a, b, h):\n",
    "        self.a = a\n",
    "        self.b = b\n",
    "        self.h = h\n",
    "    \n",
    "    def volume(self):\n",
    "        return self.a * self.b * self.h\n",
    "    \n",
    "    def surface(self):\n",
    "        return (self.a * self.b + self.a * self.h + self.b * self.h) * 2\n",
    "t = squarecol(2, 4, 6)\n",
    "print(t.volume(), t.surface())"
   ]
  },
  {
   "cell_type": "code",
   "execution_count": 39,
   "id": "3ccd95a9-1bcc-4b78-b064-1d67acf182a5",
   "metadata": {
    "tags": []
   },
   "outputs": [],
   "source": [
    "class Character(object):\n",
    "\n",
    "    def __init__(self):\n",
    "        self.life = 1000\n",
    "        self.strength = 10\n",
    "        self.intelligence = 10\n",
    "\n",
    "    def attacked(self):\n",
    "        self.life -= 10\n",
    "        print(\"공격받음! 생명력 =\", self.life)\n",
    "\n",
    "    def attack(self):\n",
    "        print(\"공격!\")"
   ]
  },
  {
   "cell_type": "code",
   "execution_count": 43,
   "id": "6518afcf-edac-4391-8cb2-8170d1fbf3b7",
   "metadata": {
    "tags": []
   },
   "outputs": [],
   "source": [
    "class Warrior(Character):\n",
    "\n",
    "    def __init__(self):\n",
    "        super(Warrior, self).__init__()\n",
    "        self.strength = 15\n",
    "        self.intelligence = 5\n",
    "    \n",
    "    def attacked(self):\n",
    "        self.life -= 5\n",
    "        print(\"공격받음! 생명력 =\", self.life)\n",
    "        \n",
    "    def attack(self):\n",
    "        print(\"육탄 공격!\")"
   ]
  },
  {
   "cell_type": "code",
   "execution_count": 44,
   "id": "76e49048-cac5-419e-96c1-bb861d2dcd51",
   "metadata": {
    "tags": []
   },
   "outputs": [],
   "source": [
    "class Wizard(Character):\n",
    "\n",
    "    def __init__(self):\n",
    "        super(Wizard, self).__init__()\n",
    "        self.strength = 5\n",
    "        self.intelligence = 15\n",
    "    \n",
    "    def attacked(self):\n",
    "        self.life -= 15\n",
    "        print(\"공격받음! 생명력 =\", self.life)\n",
    "        \n",
    "    def attack(self):\n",
    "        print(\"마법 공격!\")"
   ]
  },
  {
   "cell_type": "code",
   "execution_count": 54,
   "id": "72099750-5bd5-4231-b8cb-72a5a4254597",
   "metadata": {
    "tags": []
   },
   "outputs": [],
   "source": [
    "#2.12.4\n",
    "\n",
    "class Car():\n",
    "    \n",
    "    def __init__(self):\n",
    "        self.max_speed = 160\n",
    "        self.speed = 0\n",
    "        \n",
    "    def speed_up(self):\n",
    "        self.speed += 20\n",
    "        self.speed = min(self.speed, self.max_speed)\n",
    "        print(\"speed=\", self.speed)\n",
    "    \n",
    "    def speed_down(self):\n",
    "        self.speed -= 20\n",
    "        self.speed = max(self.speed, 0)\n",
    "        print(\"speed=\", self.speed)"
   ]
  },
  {
   "cell_type": "code",
   "execution_count": 57,
   "id": "144b8120-57e5-4f5c-afda-d8018bcd117f",
   "metadata": {
    "tags": []
   },
   "outputs": [],
   "source": [
    "#2.12.5\n",
    "\n",
    "class SportCar(Car):\n",
    "    def __init__(self):\n",
    "        super(SportCar, self).__init__()\n",
    "        self.max_speed = 200\n",
    "    \n",
    "    def speed_up(self):\n",
    "        self.speed += 45\n",
    "        self.speed = min(self.speed, self.max_speed)\n",
    "        print(\"speed=\", self.speed)\n",
    "    \n",
    "    def speed_down(self):\n",
    "        self.speed -= 45\n",
    "        self.speed = max(self.speed, 0)\n",
    "        print(\"speed=\", self.speed)\n",
    "\n",
    "\n",
    "class Truck(Car):\n",
    "    def __init__(self):\n",
    "        super(Truck, self).__init__()\n",
    "        self.max_speed = 100\n",
    "    \n",
    "    def speed_up(self):\n",
    "        self.speed += 15\n",
    "        self.speed = min(self.speed, self.max_speed)\n",
    "        print(\"speed=\", self.speed)\n",
    "    \n",
    "    def speed_down(self):\n",
    "        self.speed -= 15\n",
    "        self.speed = max(self.speed, 0)\n",
    "        print(\"speed=\", self.speed)"
   ]
  },
  {
   "cell_type": "code",
   "execution_count": 60,
   "id": "19573095-8f2d-4385-a3d9-c4aace718caf",
   "metadata": {
    "tags": []
   },
   "outputs": [
    {
     "name": "stdout",
     "output_type": "stream",
     "text": [
      "speed= 45\n",
      "speed= 90\n",
      "speed= 135\n",
      "speed= 180\n",
      "speed= 200\n"
     ]
    }
   ],
   "source": [
    "s = SportCar()\n",
    "s.speed_up()\n",
    "s.speed_up()\n",
    "s.speed_up()\n",
    "s.speed_up()\n",
    "s.speed_up()"
   ]
  },
  {
   "cell_type": "code",
   "execution_count": 20,
   "id": "ea4c3dfa-8ee1-4f80-891d-b40238006b71",
   "metadata": {},
   "outputs": [],
   "source": [
    "#2.12.6\n",
    "\n",
    "class Student():\n",
    "    \n",
    "    def __init__(self, id, name, math, english):\n",
    "        self.id = id\n",
    "        self.name = name\n",
    "        self.math = math\n",
    "        self.english = english\n",
    "    \n",
    "    def __repr__(self):\n",
    "        return f\"Student: {self.name} {self.id}\"\n",
    "    \n",
    "    def __str__(self):\n",
    "        return \"[for str] \" + self.name\n",
    "    \n",
    "    def __getitem__(self, key):\n",
    "        if key == \"math\":\n",
    "            return self.math\n",
    "        if key == \"english\":\n",
    "            return self.english\n",
    "    \n",
    "    def mean(self):\n",
    "        return (self.math + self.english) / 2"
   ]
  },
  {
   "cell_type": "code",
   "execution_count": 21,
   "id": "ca497b4a-6623-490f-962d-78cfa0ffc064",
   "metadata": {
    "tags": []
   },
   "outputs": [
    {
     "data": {
      "text/plain": [
       "(Student: lee 1234, '[for str] lee', 74, 85, 79.5)"
      ]
     },
     "execution_count": 21,
     "metadata": {},
     "output_type": "execute_result"
    }
   ],
   "source": [
    "obj = Student(\"1234\", \"lee\", 74, 85)\n",
    "obj, str(obj), obj[\"math\"], obj[\"english\"], obj.mean()"
   ]
  },
  {
   "cell_type": "code",
   "execution_count": 26,
   "id": "6e45ad3e-68e8-4b4e-a5f0-422657bc9ae7",
   "metadata": {
    "tags": []
   },
   "outputs": [
    {
     "data": {
      "text/plain": [
       "['Binarizer',\n",
       " 'FunctionTransformer',\n",
       " 'KBinsDiscretizer',\n",
       " 'KernelCenterer',\n",
       " 'LabelBinarizer',\n",
       " 'LabelEncoder',\n",
       " 'MaxAbsScaler',\n",
       " 'MinMaxScaler',\n",
       " 'MultiLabelBinarizer',\n",
       " 'Normalizer',\n",
       " 'OneHotEncoder',\n",
       " 'OrdinalEncoder',\n",
       " 'PolynomialFeatures',\n",
       " 'PowerTransformer',\n",
       " 'QuantileTransformer',\n",
       " 'RobustScaler',\n",
       " 'SplineTransformer',\n",
       " 'StandardScaler',\n",
       " 'TargetEncoder',\n",
       " '__all__',\n",
       " '__builtins__',\n",
       " '__cached__',\n",
       " '__doc__',\n",
       " '__file__',\n",
       " '__loader__',\n",
       " '__name__',\n",
       " '__package__',\n",
       " '__path__',\n",
       " '__spec__',\n",
       " '_csr_polynomial_expansion',\n",
       " '_data',\n",
       " '_discretization',\n",
       " '_encoders',\n",
       " '_function_transformer',\n",
       " '_label',\n",
       " '_polynomial',\n",
       " '_target_encoder',\n",
       " '_target_encoder_fast',\n",
       " 'add_dummy_feature',\n",
       " 'binarize',\n",
       " 'label_binarize',\n",
       " 'maxabs_scale',\n",
       " 'minmax_scale',\n",
       " 'normalize',\n",
       " 'power_transform',\n",
       " 'quantile_transform',\n",
       " 'robust_scale',\n",
       " 'scale']"
      ]
     },
     "execution_count": 26,
     "metadata": {},
     "output_type": "execute_result"
    }
   ],
   "source": [
    "import sklearn.preprocessing\n",
    "dir(sklearn.preprocessing)"
   ]
  },
  {
   "cell_type": "code",
   "execution_count": 32,
   "id": "c108f746-84b0-4036-88f0-2c479d0b71f0",
   "metadata": {
    "tags": []
   },
   "outputs": [
    {
     "data": {
      "text/plain": [
       "array([0, 1, 2, 3, 4, 5, 6, 7, 8, 9])"
      ]
     },
     "execution_count": 32,
     "metadata": {},
     "output_type": "execute_result"
    }
   ],
   "source": [
    "np.arange(10)"
   ]
  },
  {
   "cell_type": "code",
   "execution_count": 41,
   "id": "f5f17d70-dcb7-466f-8007-fb334eb4efb2",
   "metadata": {
    "tags": []
   },
   "outputs": [
    {
     "data": {
      "text/plain": [
       "-1"
      ]
     },
     "execution_count": 41,
     "metadata": {},
     "output_type": "execute_result"
    }
   ],
   "source": [
    "#2.14.1\n",
    "today = \"2020-10-25\"\n",
    "birthday = \"2020-11-21\"\n",
    "today = int(today.replace(\"-\", \"\"))\n",
    "birthday = int(birthday.replace(\"-\", \"\"))\n",
    "(today-birthday)//10000"
   ]
  },
  {
   "cell_type": "code",
   "execution_count": 59,
   "id": "1d63bb6e-3399-4e01-b701-687db2a8cbe2",
   "metadata": {},
   "outputs": [],
   "source": [
    "import datetime as dt"
   ]
  },
  {
   "cell_type": "code",
   "execution_count": 60,
   "id": "33995f65-0b6b-4182-9821-f8d5a8193fea",
   "metadata": {
    "tags": []
   },
   "outputs": [
    {
     "name": "stdout",
     "output_type": "stream",
     "text": [
      "1998년 04월 23일 목요일\n"
     ]
    }
   ],
   "source": [
    "#2.15.1\n",
    "\n",
    "birthday = dt.datetime(1998, 4, 23)\n",
    "weekday = {0: \"월요일\",\n",
    "    1: \"화요일\",\n",
    "    2: \"수요일\",\n",
    "    3: \"목요일\",\n",
    "    4: \"금요일\",\n",
    "    5: \"토요일\",\n",
    "    6: \"일요일\"}\n",
    "print(birthday.strftime(\"%Y년 %m월 %d일\"), weekday[birthday.weekday()])"
   ]
  },
  {
   "cell_type": "code",
   "execution_count": 61,
   "id": "364e93ac-a605-456c-8af1-01ec193ef241",
   "metadata": {
    "tags": []
   },
   "outputs": [
    {
     "name": "stdout",
     "output_type": "stream",
     "text": [
      "25\n"
     ]
    }
   ],
   "source": [
    "#2.15.2\n",
    "\n",
    "birthday = dt.datetime(1998, 4, 23)\n",
    "now = dt.datetime.now()\n",
    "age = now.year - birthday.year\n",
    "mon = now.month - birthday.month\n",
    "if now.day - birthday.day < 0:\n",
    "    mon -= 1\n",
    "if mon < 0:\n",
    "    age -= 1\n",
    "print(age)"
   ]
  },
  {
   "cell_type": "code",
   "execution_count": 62,
   "id": "bf58458e-0c02-4563-9181-235e8ae5ffe8",
   "metadata": {
    "tags": []
   },
   "outputs": [],
   "source": [
    "from dateutil.parser import parse"
   ]
  },
  {
   "cell_type": "code",
   "execution_count": 63,
   "id": "d1a8750f-87c8-44f7-a705-e10599deac0a",
   "metadata": {
    "tags": []
   },
   "outputs": [
    {
     "data": {
      "text/plain": [
       "datetime.datetime(2016, 4, 16, 0, 0)"
      ]
     },
     "execution_count": 63,
     "metadata": {},
     "output_type": "execute_result"
    }
   ],
   "source": [
    "parse('2016-04-16')"
   ]
  },
  {
   "cell_type": "code",
   "execution_count": 64,
   "id": "c0ac694b-7a16-4f0b-b06c-35c2ad596778",
   "metadata": {
    "tags": []
   },
   "outputs": [
    {
     "data": {
      "text/plain": [
       "(200, 288736.0)"
      ]
     },
     "execution_count": 64,
     "metadata": {},
     "output_type": "execute_result"
    }
   ],
   "source": [
    "#2.15.3\n",
    "\n",
    "next_birthday = parse(\"2024-04-23\")\n",
    "now = dt.datetime.now()\n",
    "td = next_birthday - now\n",
    "d0 = td.days\n",
    "d1 = td.total_seconds()//60\n",
    "d0, d1"
   ]
  },
  {
   "cell_type": "code",
   "execution_count": 73,
   "id": "1df29124-3b8e-4b82-a8e3-380de696eb8b",
   "metadata": {
    "tags": []
   },
   "outputs": [],
   "source": [
    "from dateutil.relativedelta import relativedelta"
   ]
  },
  {
   "cell_type": "code",
   "execution_count": 80,
   "id": "7babbcc5-8efc-4fb8-83fe-8610b27b51ed",
   "metadata": {
    "tags": []
   },
   "outputs": [
    {
     "name": "stdout",
     "output_type": "stream",
     "text": [
      "윤년입니다.\n",
      "2001-02-28 00:00:00\n"
     ]
    }
   ],
   "source": [
    "#2.15.4\n",
    "\n",
    "x = dt.datetime(2000,2,1)\n",
    "if (x + relativedelta(days=28)).month == x.month:\n",
    "    print(\"윤년입니다.\")\n",
    "    \n",
    "x = dt.datetime(2000,3,1) - relativedelta(days=1) + relativedelta(years=1)\n",
    "print(x)"
   ]
  },
  {
   "cell_type": "code",
   "execution_count": null,
   "id": "f5acd3e4-ce16-47d9-b101-e901993f7fd7",
   "metadata": {},
   "outputs": [],
   "source": []
  }
 ],
 "metadata": {
  "kernelspec": {
   "display_name": "Python 3 (ipykernel)",
   "language": "python",
   "name": "python3"
  },
  "language_info": {
   "codemirror_mode": {
    "name": "ipython",
    "version": 3
   },
   "file_extension": ".py",
   "mimetype": "text/x-python",
   "name": "python",
   "nbconvert_exporter": "python",
   "pygments_lexer": "ipython3",
   "version": "3.11.4"
  }
 },
 "nbformat": 4,
 "nbformat_minor": 5
}
