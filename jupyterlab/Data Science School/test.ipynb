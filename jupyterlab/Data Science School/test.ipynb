{
 "cells": [
  {
   "cell_type": "code",
   "execution_count": 1,
   "id": "b3c2782e-73a7-428a-9a7d-c7c4fe0391b4",
   "metadata": {
    "tags": []
   },
   "outputs": [],
   "source": [
    "import matplotlib.font_manager"
   ]
  },
  {
   "cell_type": "code",
   "execution_count": 2,
   "id": "5c3cf2d7-2c66-469f-a841-04fa8c0ae11e",
   "metadata": {
    "tags": []
   },
   "outputs": [
    {
     "data": {
      "text/plain": [
       "['Nanum Brush Script',\n",
       " 'Nanum Brush Script',\n",
       " 'Nanum Pen Script',\n",
       " 'Nanum Pen Script',\n",
       " 'NanumBarunGothic',\n",
       " 'NanumBarunGothic',\n",
       " 'NanumBarunGothic',\n",
       " 'NanumBarunGothic',\n",
       " 'NanumBarunGothic',\n",
       " 'NanumBarunGothic',\n",
       " 'NanumBarunGothic',\n",
       " 'NanumBarunGothic',\n",
       " 'NanumBarunGothic YetHangul',\n",
       " 'NanumBarunGothic YetHangul',\n",
       " 'NanumBarunpen',\n",
       " 'NanumBarunpen',\n",
       " 'NanumBarunpen',\n",
       " 'NanumBarunpen',\n",
       " 'NanumGothic',\n",
       " 'NanumGothic',\n",
       " 'NanumGothic',\n",
       " 'NanumGothic',\n",
       " 'NanumGothic',\n",
       " 'NanumGothic',\n",
       " 'NanumGothic',\n",
       " 'NanumGothic',\n",
       " 'NanumGothic Eco',\n",
       " 'NanumGothic Eco',\n",
       " 'NanumGothic Eco',\n",
       " 'NanumGothic Eco',\n",
       " 'NanumGothic Eco',\n",
       " 'NanumGothic Eco',\n",
       " 'NanumMyeongjo',\n",
       " 'NanumMyeongjo',\n",
       " 'NanumMyeongjo',\n",
       " 'NanumMyeongjo',\n",
       " 'NanumMyeongjo',\n",
       " 'NanumMyeongjo',\n",
       " 'NanumMyeongjo Eco',\n",
       " 'NanumMyeongjo Eco',\n",
       " 'NanumMyeongjo Eco',\n",
       " 'NanumMyeongjo Eco',\n",
       " 'NanumMyeongjo Eco',\n",
       " 'NanumMyeongjo Eco',\n",
       " 'NanumMyeongjo YetHangul',\n",
       " 'NanumMyeongjo YetHangul',\n",
       " 'NanumSquare',\n",
       " 'NanumSquare',\n",
       " 'NanumSquare',\n",
       " 'NanumSquare',\n",
       " 'NanumSquare',\n",
       " 'NanumSquare',\n",
       " 'NanumSquare',\n",
       " 'NanumSquare',\n",
       " 'NanumSquare Neo',\n",
       " 'NanumSquare Neo',\n",
       " 'NanumSquare Neo',\n",
       " 'NanumSquare Neo',\n",
       " 'NanumSquare Neo',\n",
       " 'NanumSquare Neo',\n",
       " 'NanumSquare Neo',\n",
       " 'NanumSquare Neo',\n",
       " 'NanumSquare Neo',\n",
       " 'NanumSquare Neo',\n",
       " 'NanumSquare Neo variable',\n",
       " 'NanumSquare Neo variable',\n",
       " 'NanumSquareRound',\n",
       " 'NanumSquareRound',\n",
       " 'NanumSquareRound',\n",
       " 'NanumSquareRound',\n",
       " 'NanumSquareRound',\n",
       " 'NanumSquareRound',\n",
       " 'NanumSquareRound',\n",
       " 'NanumSquareRound',\n",
       " 'NanumSquare_ac',\n",
       " 'NanumSquare_ac',\n",
       " 'NanumSquare_ac',\n",
       " 'NanumSquare_ac',\n",
       " 'NanumSquare_ac',\n",
       " 'NanumSquare_ac',\n",
       " 'NanumSquare_ac',\n",
       " 'NanumSquare_ac']"
      ]
     },
     "execution_count": 2,
     "metadata": {},
     "output_type": "execute_result"
    }
   ],
   "source": [
    "sorted([f.name for f in matplotlib.font_manager.fontManager.ttflist if f.name.startswith(\"Nanum\")])"
   ]
  },
  {
   "cell_type": "code",
   "execution_count": 4,
   "id": "2402e162-0cde-4567-a1dc-320975c5f8c6",
   "metadata": {
    "tags": []
   },
   "outputs": [
    {
     "data": {
      "text/plain": [
       "[]"
      ]
     },
     "execution_count": 4,
     "metadata": {},
     "output_type": "execute_result"
    }
   ],
   "source": [
    "sorted([f.name for f in matplotlib.font_manager.fontManager.ttflist if f.name.startswith(\"Nanum\")])"
   ]
  },
  {
   "cell_type": "code",
   "execution_count": 4,
   "id": "8d7bfe3e-d046-4376-93ad-14a5d562a8ea",
   "metadata": {},
   "outputs": [
    {
     "data": {
      "text/plain": [
       "500000000.0"
      ]
     },
     "execution_count": 4,
     "metadata": {},
     "output_type": "execute_result"
    }
   ],
   "source": [
    "5e8"
   ]
  },
  {
   "cell_type": "code",
   "execution_count": 5,
   "id": "4200b901-5cd2-4b3d-9f13-7cc74e8b731b",
   "metadata": {
    "tags": []
   },
   "outputs": [
    {
     "data": {
      "text/plain": [
       "5600.0"
      ]
     },
     "execution_count": 5,
     "metadata": {},
     "output_type": "execute_result"
    }
   ],
   "source": [
    "5.6e3"
   ]
  },
  {
   "cell_type": "code",
   "execution_count": 6,
   "id": "58e336e4-958f-4f65-a1e9-d734ca183ce0",
   "metadata": {
    "tags": []
   },
   "outputs": [
    {
     "data": {
      "text/plain": [
       "-210.0"
      ]
     },
     "execution_count": 6,
     "metadata": {},
     "output_type": "execute_result"
    }
   ],
   "source": [
    "-2.1e2"
   ]
  },
  {
   "cell_type": "code",
   "execution_count": 7,
   "id": "0cb34bb0-d453-4fe4-949f-df0b28196e7a",
   "metadata": {
    "tags": []
   },
   "outputs": [
    {
     "data": {
      "text/plain": [
       "-0.34"
      ]
     },
     "execution_count": 7,
     "metadata": {},
     "output_type": "execute_result"
    }
   ],
   "source": [
    "-3.4e-1"
   ]
  },
  {
   "cell_type": "code",
   "execution_count": 8,
   "id": "5ab3b64b-17e2-437f-a7bd-14421e6a3f76",
   "metadata": {
    "tags": []
   },
   "outputs": [
    {
     "data": {
      "text/plain": [
       "3.141592"
      ]
     },
     "execution_count": 8,
     "metadata": {},
     "output_type": "execute_result"
    }
   ],
   "source": [
    "3141592e-6"
   ]
  },
  {
   "cell_type": "code",
   "execution_count": 9,
   "id": "21ad7a94-1db7-408e-b96a-e66a2eaddec7",
   "metadata": {
    "tags": []
   },
   "outputs": [
    {
     "data": {
      "text/plain": [
       "'0b1101'"
      ]
     },
     "execution_count": 9,
     "metadata": {},
     "output_type": "execute_result"
    }
   ],
   "source": [
    "bin(13)"
   ]
  },
  {
   "cell_type": "code",
   "execution_count": 10,
   "id": "d440a4fc-4924-41f8-8da9-d270c32acc38",
   "metadata": {
    "tags": []
   },
   "outputs": [
    {
     "ename": "TypeError",
     "evalue": "'float' object cannot be interpreted as an integer",
     "output_type": "error",
     "traceback": [
      "\u001b[1;31m---------------------------------------------------------------------------\u001b[0m",
      "\u001b[1;31mTypeError\u001b[0m                                 Traceback (most recent call last)",
      "Cell \u001b[1;32mIn[10], line 1\u001b[0m\n\u001b[1;32m----> 1\u001b[0m \u001b[38;5;28mbin\u001b[39m(\u001b[38;5;241m0.8\u001b[39m)\n",
      "\u001b[1;31mTypeError\u001b[0m: 'float' object cannot be interpreted as an integer"
     ]
    }
   ],
   "source": [
    "bin(0.8)"
   ]
  },
  {
   "cell_type": "code",
   "execution_count": 11,
   "id": "86ac96c4-abc0-478c-9434-4cd227a601c4",
   "metadata": {
    "tags": []
   },
   "outputs": [
    {
     "ename": "TypeError",
     "evalue": "'float' object cannot be interpreted as an integer",
     "output_type": "error",
     "traceback": [
      "\u001b[1;31m---------------------------------------------------------------------------\u001b[0m",
      "\u001b[1;31mTypeError\u001b[0m                                 Traceback (most recent call last)",
      "Cell \u001b[1;32mIn[11], line 1\u001b[0m\n\u001b[1;32m----> 1\u001b[0m \u001b[38;5;28mbin\u001b[39m(\u001b[38;5;241m1.25\u001b[39m)\n",
      "\u001b[1;31mTypeError\u001b[0m: 'float' object cannot be interpreted as an integer"
     ]
    }
   ],
   "source": [
    "bin(1.25)"
   ]
  },
  {
   "cell_type": "code",
   "execution_count": 12,
   "id": "eabb34ce-2cd9-49c1-92a4-1b0ff45af3bd",
   "metadata": {
    "tags": []
   },
   "outputs": [
    {
     "data": {
      "text/plain": [
       "0.8"
      ]
     },
     "execution_count": 12,
     "metadata": {},
     "output_type": "execute_result"
    }
   ],
   "source": [
    "0.8"
   ]
  },
  {
   "cell_type": "code",
   "execution_count": 16,
   "id": "4c7fc54a-d54f-4576-bf82-43c458c98761",
   "metadata": {
    "tags": []
   },
   "outputs": [
    {
     "data": {
      "text/plain": [
       "'%r'"
      ]
     },
     "execution_count": 16,
     "metadata": {},
     "output_type": "execute_result"
    }
   ],
   "source": [
    "%precision %r"
   ]
  },
  {
   "cell_type": "code",
   "execution_count": 17,
   "id": "67e35e13-762b-4404-a2da-87e7f11f6b8c",
   "metadata": {
    "tags": []
   },
   "outputs": [
    {
     "data": {
      "text/plain": [
       "0.1"
      ]
     },
     "execution_count": 17,
     "metadata": {},
     "output_type": "execute_result"
    }
   ],
   "source": [
    "0.1"
   ]
  },
  {
   "cell_type": "code",
   "execution_count": 18,
   "id": "6900c9aa-842f-40b9-8ace-18743ce16c8d",
   "metadata": {
    "tags": []
   },
   "outputs": [
    {
     "data": {
      "text/plain": [
       "0.8"
      ]
     },
     "execution_count": 18,
     "metadata": {},
     "output_type": "execute_result"
    }
   ],
   "source": [
    "0.8"
   ]
  },
  {
   "cell_type": "code",
   "execution_count": 19,
   "id": "f2d98722-70d7-4e73-83c0-74452bfeb1a2",
   "metadata": {
    "tags": []
   },
   "outputs": [
    {
     "data": {
      "text/plain": [
       "True"
      ]
     },
     "execution_count": 19,
     "metadata": {},
     "output_type": "execute_result"
    }
   ],
   "source": [
    "round(0.1 + 0.2) == round(0.3)"
   ]
  },
  {
   "cell_type": "code",
   "execution_count": 20,
   "id": "0b6f379d-2a7f-404f-840b-e9a004b41bf0",
   "metadata": {
    "tags": []
   },
   "outputs": [
    {
     "ename": "SyntaxError",
     "evalue": "invalid syntax (2978722373.py, line 1)",
     "output_type": "error",
     "traceback": [
      "\u001b[1;36m  Cell \u001b[1;32mIn[20], line 1\u001b[1;36m\u001b[0m\n\u001b[1;33m    Beautiful is better than ugly.\u001b[0m\n\u001b[1;37m                        ^\u001b[0m\n\u001b[1;31mSyntaxError\u001b[0m\u001b[1;31m:\u001b[0m invalid syntax\n"
     ]
    }
   ],
   "source": []
  },
  {
   "cell_type": "code",
   "execution_count": 23,
   "id": "0ffd288c-661e-4a95-90c7-ce5c6ce114e7",
   "metadata": {
    "tags": []
   },
   "outputs": [
    {
     "name": "stdout",
     "output_type": "stream",
     "text": [
      "\n",
      "Beautiful is better than ugly.\n",
      "Explicit is better than implicit.\n",
      "Simple is better than complex.\n",
      "Complex is better than complicated.\n",
      "Flat is better than nested.\n",
      "Sparse is better than dense.\n",
      "\n"
     ]
    }
   ],
   "source": [
    "multi_string = \"\"\"\n",
    "Beautiful is better than ugly.\n",
    "Explicit is better than implicit.\n",
    "Simple is better than complex.\n",
    "Complex is better than complicated.\n",
    "Flat is better than nested.\n",
    "Sparse is better than dense.\n",
    "\"\"\"\n",
    "print(multi_string)"
   ]
  },
  {
   "cell_type": "code",
   "execution_count": 24,
   "id": "d63ada6e-2a2f-4763-b73a-25f57ac22418",
   "metadata": {
    "tags": []
   },
   "outputs": [
    {
     "ename": "SyntaxError",
     "evalue": "incomplete input (578919639.py, line 3)",
     "output_type": "error",
     "traceback": [
      "\u001b[1;36m  Cell \u001b[1;32mIn[24], line 3\u001b[1;36m\u001b[0m\n\u001b[1;33m    print(\"\"\"\u001b[0m\n\u001b[1;37m          ^\u001b[0m\n\u001b[1;31mSyntaxError\u001b[0m\u001b[1;31m:\u001b[0m incomplete input\n"
     ]
    }
   ],
   "source": [
    "a = 3\n",
    "b = 12\n",
    "print(\"\"\"\n",
    "     {a}\n",
    "X    {b}\n",
    "--------\n",
    "     {a*b}\n",
    "'''"
   ]
  },
  {
   "cell_type": "code",
   "execution_count": 32,
   "id": "32d58b65-bbcc-46dc-9c89-0aac12c3c7f2",
   "metadata": {
    "tags": []
   },
   "outputs": [
    {
     "name": "stdout",
     "output_type": "stream",
     "text": [
      "       3\n",
      "x     12\n",
      "--------\n",
      "      36\n"
     ]
    }
   ],
   "source": [
    "a = 3\n",
    "b = 12\n",
    "print(\"%8d\" % a)\n",
    "print(\"x\", end='')\n",
    "print(\"%7d\" % b)\n",
    "print(\"-\"*8)\n",
    "print(\"%8d\" % (a*b))"
   ]
  },
  {
   "cell_type": "code",
   "execution_count": 37,
   "id": "6d87e5a2-a5f3-47de-8dfa-8460e249e5aa",
   "metadata": {
    "tags": []
   },
   "outputs": [
    {
     "name": "stdout",
     "output_type": "stream",
     "text": [
      "        33\n",
      "x      122\n",
      "----------\n",
      "      4026\n"
     ]
    }
   ],
   "source": [
    "a, b = 33, 122\n",
    "print(f'{a:10}')\n",
    "print(f'x{b:9}')\n",
    "print('-'*10)\n",
    "print(f'{a*b:10}')"
   ]
  },
  {
   "cell_type": "code",
   "execution_count": null,
   "id": "2255f516-d3e9-43b8-af19-faffb6704329",
   "metadata": {},
   "outputs": [],
   "source": []
  }
 ],
 "metadata": {
  "kernelspec": {
   "display_name": "Python 3 (ipykernel)",
   "language": "python",
   "name": "python3"
  },
  "language_info": {
   "codemirror_mode": {
    "name": "ipython",
    "version": 3
   },
   "file_extension": ".py",
   "mimetype": "text/x-python",
   "name": "python",
   "nbconvert_exporter": "python",
   "pygments_lexer": "ipython3",
   "version": "3.11.4"
  }
 },
 "nbformat": 4,
 "nbformat_minor": 5
}
