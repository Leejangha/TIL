{
 "cells": [
  {
   "cell_type": "code",
   "execution_count": 1,
   "id": "48c3af78",
   "metadata": {},
   "outputs": [],
   "source": [
    "# 필요 패키지 import\n",
    "import pprint\n",
    "import requests"
   ]
  },
  {
   "cell_type": "markdown",
   "id": "d5723667",
   "metadata": {},
   "source": [
    "# 문제4. 상품과 옵션 정보들을 담고 있는 새로운 객체를 만들어 반환하시오.\n",
    "- [힌트] 상품 리스트와 옵션 리스트를 금융상품 코드를 기준으로 매칭할 수 있습니다.\n",
    "- [힌트] 아래와 같은 순서로 데이터를 출력하며 진행합니다.\n",
    "- 1. 응답을 json 형식으로 변환합니다.\n",
    "- 2. key 값이 \"result\" 인 데이터를 변수에 저장합니다.\n",
    "- 3. 2번의 결과 중 key 값이 \"baseList\" 인 데이터를 변수에 저장합니다.\n",
    "- 4. 2번의 결과 중 key 값이 \"optionList\" 인 데이터를 변수에 저장합니다.\n",
    "- 5. 3번에서 저장된 변수를 순회하며, 4번에서 저장된 값들에서 금융 상품 코드가 \n",
    "-     같은 모든 데이터들을 가져와 새로운 딕셔너리로 저장합니다.\n",
    "-     저장 시, 명세서에 맞게 출력되도록 저장합니다.\n",
    "- 6. 5번에서 만든 딕셔너리를 결과 리스트에 추가합니다."
   ]
  },
  {
   "cell_type": "code",
   "execution_count": 8,
   "id": "dcdb1972",
   "metadata": {},
   "outputs": [],
   "source": [
    "def get_deposit_products():\n",
    "    # 본인의 API KEY 로 수정합니다.\n",
    "    api_key = \"4e2b65a152ce5ce01b72649b7ea6307f\"\n",
    "    \n",
    "    # 요구사항에 맞도록 이곳의 코드를 수정합니다.\n",
    "    url = f'http://finlife.fss.or.kr/finlifeapi/depositProductsSearch.json?auth={api_key}&topFinGrpNo=020000&pageNo=1'\n",
    "    \n",
    "    response = requests.get(url).json()\n",
    "\n",
    "    baseList = response['result']['baseList']\n",
    "    \n",
    "    optionList = response['result']['optionList']\n",
    "\n",
    "   \n",
    "    fin_list = []\n",
    "    \n",
    "    for i in baseList:\n",
    "        fin_info={}\n",
    "        results = []\n",
    "        for j in optionList:\n",
    "            result = {}\n",
    "            if i[\"fin_prdt_cd\"] == j[\"fin_prdt_cd\"]:\n",
    "                result['저축 금리'] = j[\"intr_rate\"]\n",
    "                result['저축 기간'] = j[\"save_trm\"]\n",
    "                result['저축금리유형'] = j[\"intr_rate_type\"]\n",
    "                result['저축금리유형명'] = j[\"intr_rate_type_nm\"]\n",
    "                result['최고 우대금리'] = j[\"intr_rate2\"]\n",
    "                results.append(result)\n",
    "        fin_info = {'금리정보' : results, '금융상품명' : i[\"fin_prdt_nm\"], '금융회사명' : i[\"kor_co_nm\"]}\n",
    "        fin_list.append(fin_info)\n",
    "    for i in fin_list:\n",
    "        if i['금융상품명'] == 'WON플러스예금':\n",
    "            return [i]\n",
    "\n"
   ]
  },
  {
   "cell_type": "code",
   "execution_count": 9,
   "id": "9a3c23f1",
   "metadata": {},
   "outputs": [
    {
     "ename": "KeyError",
     "evalue": "'iSntr_rate'",
     "output_type": "error",
     "traceback": [
      "\u001b[1;31m---------------------------------------------------------------------------\u001b[0m",
      "\u001b[1;31mKeyError\u001b[0m                                  Traceback (most recent call last)",
      "Cell \u001b[1;32mIn[9], line 4\u001b[0m\n\u001b[0;32m      1\u001b[0m \u001b[38;5;66;03m# 아래 코드는 수정하지 않습니다.\u001b[39;00m\n\u001b[0;32m      2\u001b[0m \u001b[38;5;28;01mif\u001b[39;00m \u001b[38;5;18m__name__\u001b[39m \u001b[38;5;241m==\u001b[39m \u001b[38;5;124m'\u001b[39m\u001b[38;5;124m__main__\u001b[39m\u001b[38;5;124m'\u001b[39m:\n\u001b[0;32m      3\u001b[0m     \u001b[38;5;66;03m# json 형태의 데이터 반환\u001b[39;00m\n\u001b[1;32m----> 4\u001b[0m     result \u001b[38;5;241m=\u001b[39m \u001b[43mget_deposit_products\u001b[49m\u001b[43m(\u001b[49m\u001b[43m)\u001b[49m\n\u001b[0;32m      5\u001b[0m     \u001b[38;5;66;03m# prrint.prrint(): json 을 보기 좋은 형식으로 출력\u001b[39;00m\n\u001b[0;32m      6\u001b[0m     pprint\u001b[38;5;241m.\u001b[39mpprint(result)\n",
      "Cell \u001b[1;32mIn[8], line 23\u001b[0m, in \u001b[0;36mget_deposit_products\u001b[1;34m()\u001b[0m\n\u001b[0;32m     21\u001b[0m result \u001b[38;5;241m=\u001b[39m {}\n\u001b[0;32m     22\u001b[0m \u001b[38;5;28;01mif\u001b[39;00m i[\u001b[38;5;124m\"\u001b[39m\u001b[38;5;124mfin_prdt_cd\u001b[39m\u001b[38;5;124m\"\u001b[39m] \u001b[38;5;241m==\u001b[39m j[\u001b[38;5;124m\"\u001b[39m\u001b[38;5;124mfin_prdt_cd\u001b[39m\u001b[38;5;124m\"\u001b[39m]:\n\u001b[1;32m---> 23\u001b[0m     result[\u001b[38;5;124m'\u001b[39m\u001b[38;5;124m저축 금리\u001b[39m\u001b[38;5;124m'\u001b[39m] \u001b[38;5;241m=\u001b[39m \u001b[43mj\u001b[49m\u001b[43m[\u001b[49m\u001b[38;5;124;43m\"\u001b[39;49m\u001b[38;5;124;43miSntr_rate\u001b[39;49m\u001b[38;5;124;43m\"\u001b[39;49m\u001b[43m]\u001b[49m\n\u001b[0;32m     24\u001b[0m     result[\u001b[38;5;124m'\u001b[39m\u001b[38;5;124m저축 기간\u001b[39m\u001b[38;5;124m'\u001b[39m] \u001b[38;5;241m=\u001b[39m j[\u001b[38;5;124m\"\u001b[39m\u001b[38;5;124msave_trm\u001b[39m\u001b[38;5;124m\"\u001b[39m]\n\u001b[0;32m     25\u001b[0m     result[\u001b[38;5;124m'\u001b[39m\u001b[38;5;124m저축금리유형\u001b[39m\u001b[38;5;124m'\u001b[39m] \u001b[38;5;241m=\u001b[39m j[\u001b[38;5;124m\"\u001b[39m\u001b[38;5;124mintr_rate_type\u001b[39m\u001b[38;5;124m\"\u001b[39m]\n",
      "\u001b[1;31mKeyError\u001b[0m: 'iSntr_rate'"
     ]
    }
   ],
   "source": [
    "# 아래 코드는 수정하지 않습니다.\n",
    "if __name__ == '__main__':\n",
    "    # json 형태의 데이터 반환\n",
    "    result = get_deposit_products()\n",
    "    # prrint.prrint(): json 을 보기 좋은 형식으로 출력\n",
    "    pprint.pprint(result)"
   ]
  },
  {
   "cell_type": "code",
   "execution_count": null,
   "id": "4793a7d8",
   "metadata": {},
   "outputs": [],
   "source": []
  }
 ],
 "metadata": {
  "kernelspec": {
   "display_name": "Python 3 (ipykernel)",
   "language": "python",
   "name": "python3"
  },
  "language_info": {
   "codemirror_mode": {
    "name": "ipython",
    "version": 3
   },
   "file_extension": ".py",
   "mimetype": "text/x-python",
   "name": "python",
   "nbconvert_exporter": "python",
   "pygments_lexer": "ipython3",
   "version": "3.11.9"
  }
 },
 "nbformat": 4,
 "nbformat_minor": 5
}
